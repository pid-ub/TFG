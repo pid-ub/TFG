{
 "metadata": {
  "name": "",
  "signature": "sha256:303e02519678b9f8a8dd94157f479ed285c5becdb4b898e9ae8bbc869c8fc45e"
 },
 "nbformat": 3,
 "nbformat_minor": 0,
 "worksheets": [
  {
   "cells": [
    {
     "cell_type": "code",
     "collapsed": false,
     "input": [
      "%matplotlib inline\n",
      "import numpy as np\n",
      "import pandas as pd"
     ],
     "language": "python",
     "metadata": {},
     "outputs": []
    },
    {
     "cell_type": "code",
     "collapsed": false,
     "input": [
      "info=pd.read_csv(\"../../reg_info.csv\")\n",
      "mates=pd.read_csv(\"../../reg_mates.csv\")"
     ],
     "language": "python",
     "metadata": {},
     "outputs": [],
     "prompt_number": 112
    },
    {
     "cell_type": "code",
     "collapsed": false,
     "input": [
      "print all(info.columns.values == mates.columns.values)\n",
      "print info.columns"
     ],
     "language": "python",
     "metadata": {},
     "outputs": [
      {
       "output_type": "stream",
       "stream": "stdout",
       "text": [
        "True\n",
        "Index([u'ID', u'curs', u'enseny', u'niub', u'sexe', u'data_naixement', u'pobl_naixem', u'codi_prov_naix', u'prov_naix', u'codi_pais_naix', u'pais_naix', u'codi_nacional', u'nacionalitat', u'estat_taxa', u'tipus_beca', u'becari', u'any_inici', u'itinerari', u'tipus_acces', u'via_ingres', u'nota_acces', u'simultaneitat', u'itinerari_doble'], dtype='object')\n"
       ]
      }
     ],
     "prompt_number": 104
    },
    {
     "cell_type": "code",
     "collapsed": false,
     "input": [
      "df = info.append(mates)\n",
      "print df['enseny'].value_counts()\n",
      "print\n",
      "print len(df)\n",
      "print \n",
      "print len(info)\n",
      "print len(mates)"
     ],
     "language": "python",
     "metadata": {},
     "outputs": [
      {
       "output_type": "stream",
       "stream": "stdout",
       "text": [
        "G1042    547\n",
        "G1077    374\n",
        "dtype: int64\n",
        "\n",
        "921\n",
        "\n",
        "374\n",
        "547\n"
       ]
      }
     ],
     "prompt_number": 105
    },
    {
     "cell_type": "code",
     "collapsed": false,
     "input": [
      "df['enseny'].value_counts()"
     ],
     "language": "python",
     "metadata": {},
     "outputs": [
      {
       "metadata": {},
       "output_type": "pyout",
       "prompt_number": 106,
       "text": [
        "G1042    547\n",
        "G1077    374\n",
        "dtype: int64"
       ]
      }
     ],
     "prompt_number": 106
    },
    {
     "cell_type": "code",
     "collapsed": false,
     "input": [
      "df['curs'].value_counts()"
     ],
     "language": "python",
     "metadata": {},
     "outputs": [
      {
       "metadata": {},
       "output_type": "pyout",
       "prompt_number": 107,
       "text": [
        "2013    921\n",
        "dtype: int64"
       ]
      }
     ],
     "prompt_number": 107
    },
    {
     "cell_type": "code",
     "collapsed": false,
     "input": [
      "df['sexe'].value_counts()"
     ],
     "language": "python",
     "metadata": {},
     "outputs": [
      {
       "metadata": {},
       "output_type": "pyout",
       "prompt_number": 108,
       "text": [
        "H    713\n",
        "D    208\n",
        "dtype: int64"
       ]
      }
     ],
     "prompt_number": 108
    },
    {
     "cell_type": "markdown",
     "metadata": {},
     "source": [
      "Si ens fixem, el camp 'pobl_naixem', que correspon al poble de naixement de l'estudiant, t\u00e9 errors de congru\u00e8ncia de dades. Per exemple, trobem que en alguns possa 'Barcelona', i en altres possa: 'BARCELONA'. Aquest camp s'ha de revisar."
     ]
    },
    {
     "cell_type": "code",
     "collapsed": false,
     "input": [
      "df['pobl_naixem'].value_counts()"
     ],
     "language": "python",
     "metadata": {},
     "outputs": [
      {
       "metadata": {},
       "output_type": "pyout",
       "prompt_number": 109,
       "text": [
        "Barcelona                248\n",
        "BARCELONA                 50\n",
        "Badalona                  20\n",
        "barcelona                 19\n",
        "Mataro                    16\n",
        "Lleida                    11\n",
        "Sant Boi de Llobrega      10\n",
        "Hospitalet de Llobre      10\n",
        "El Prat de Llobregat       9\n",
        "Girona                     9\n",
        "Granollers                 9\n",
        "Terrassa                   8\n",
        "Esplugues de Llobreg       7\n",
        "Sant Cugat del Valles      7\n",
        "BADALONA                   6\n",
        "...\n",
        "SEROS                   1\n",
        "Sant Adria de Besos     1\n",
        "SANT BOI LLOBREGAT      1\n",
        "Castellnou de Seana     1\n",
        "MERIDA                  1\n",
        "Santa Coloma Gramene    1\n",
        "Nei mongol              1\n",
        "Hospitalet de Lobreg    1\n",
        "vilassar de dalt        1\n",
        "Corbera de Llobregat    1\n",
        "Soller                  1\n",
        "mendoza                 1\n",
        "ANDUJAR                 1\n",
        "Figueres                1\n",
        "VILANOVAI LA GELTRU     1\n",
        "Length: 318, dtype: int64"
       ]
      }
     ],
     "prompt_number": 109
    },
    {
     "cell_type": "code",
     "collapsed": false,
     "input": [
      "# Els NaN, convertir-los a: Nascut a l'extranger\n",
      "df['prov_naix'].value_counts()"
     ],
     "language": "python",
     "metadata": {},
     "outputs": [
      {
       "metadata": {},
       "output_type": "pyout",
       "prompt_number": 110,
       "text": [
        "Barcelona                 637\n",
        "Tarragona                  38\n",
        "Illes Balears              37\n",
        "Girona                     34\n",
        "Lleida                     28\n",
        "Castello                   11\n",
        "Alacant                     5\n",
        "Huesca                      5\n",
        "Madrid                      5\n",
        "Valencia                    4\n",
        "Nascut a l'estranger        4\n",
        "Santa Cruz de Tenerife      3\n",
        "Sevilla                     3\n",
        "Murcia                      3\n",
        "Gipuzkoa/Guipuzcoa          2\n",
        "Badajoz                     2\n",
        "Jaen                        2\n",
        "Pontevedra                  2\n",
        "Valladolid                  2\n",
        "A Coru\u00f1a                    2\n",
        "Navarra                     2\n",
        "Salamanca                   1\n",
        "Leon                        1\n",
        "Asturias                    1\n",
        "Las Palmas                  1\n",
        "Burgos                      1\n",
        "Granada                     1\n",
        "Cantabria                   1\n",
        "dtype: int64"
       ]
      }
     ],
     "prompt_number": 110
    },
    {
     "cell_type": "code",
     "collapsed": false,
     "input": [
      "df['pais_naix'].value_counts()"
     ],
     "language": "python",
     "metadata": {},
     "outputs": [
      {
       "metadata": {},
       "output_type": "pyout",
       "prompt_number": 113,
       "text": [
        "ESPANYA                   833\n",
        "EQUADOR                    12\n",
        "PERU                       12\n",
        "XINA                       10\n",
        "ROMANIA                     6\n",
        "ARGENTINA                   5\n",
        "COLOMBIA                    4\n",
        "ANDORRA                     4\n",
        "RUSSIA                      3\n",
        "BRASIL                      3\n",
        "MARROC                      3\n",
        "PARAGUAI                    2\n",
        "UCRAINA                     2\n",
        "HONGRIA                     2\n",
        "FRAN\u00c7A                      2\n",
        "VENEZUELA                   2\n",
        "XILE                        2\n",
        "FILIPINES                   2\n",
        "ARMENIA                     2\n",
        "SUECIA                      1\n",
        "ESTATS UNITS D'AMERICA      1\n",
        "PER\u00e9                        1\n",
        "REPUBLICA DOMINICANA        1\n",
        "EL SALVADOR                 1\n",
        "ITALIA                      1\n",
        "BOLIVIA                     1\n",
        "BANGLA DESH                 1\n",
        "CUBA                        1\n",
        "BULGARIA                    1\n",
        "dtype: int64"
       ]
      }
     ],
     "prompt_number": 113
    },
    {
     "cell_type": "code",
     "collapsed": false,
     "input": [
      "df['nacionalitat'].value_counts()"
     ],
     "language": "python",
     "metadata": {},
     "outputs": [
      {
       "metadata": {},
       "output_type": "pyout",
       "prompt_number": 86,
       "text": [
        "espanyola          857\n",
        "xinesa              12\n",
        "peruana             11\n",
        "romanesa             6\n",
        "italiana             5\n",
        "equatoriana          4\n",
        "andorrana            4\n",
        "rusa                 3\n",
        "ucrainesa            3\n",
        "marroquina           2\n",
        "hongaresa            2\n",
        "brasilera            2\n",
        "paraguaiana          2\n",
        "colombiana           2\n",
        "rus o resta cei      1\n",
        "bengali              1\n",
        "salvadorenca         1\n",
        "belgara              1\n",
        "sueca                1\n",
        "portuguesa           1\n",
        "dtype: int64"
       ]
      }
     ],
     "prompt_number": 86
    },
    {
     "cell_type": "code",
     "collapsed": false,
     "input": [
      "df['estat_taxa'].value_counts()"
     ],
     "language": "python",
     "metadata": {},
     "outputs": [
      {
       "metadata": {},
       "output_type": "pyout",
       "prompt_number": 88,
       "text": [
        "2    895\n",
        "3     26\n",
        "dtype: int64"
       ]
      }
     ],
     "prompt_number": 88
    },
    {
     "cell_type": "markdown",
     "metadata": {},
     "source": [
      "Inserir 'N' als registres buits de: 'tipus_beca' i 'becari'"
     ]
    },
    {
     "cell_type": "code",
     "collapsed": false,
     "input": [
      "df['tipus_beca'].value_counts()"
     ],
     "language": "python",
     "metadata": {},
     "outputs": [
      {
       "metadata": {},
       "output_type": "pyout",
       "prompt_number": 89,
       "text": [
        "G    168\n",
        "dtype: int64"
       ]
      }
     ],
     "prompt_number": 89
    },
    {
     "cell_type": "code",
     "collapsed": false,
     "input": [
      "df['becari'].value_counts()"
     ],
     "language": "python",
     "metadata": {},
     "outputs": [
      {
       "metadata": {},
       "output_type": "pyout",
       "prompt_number": 90,
       "text": [
        "S    167\n",
        "dtype: int64"
       ]
      }
     ],
     "prompt_number": 90
    },
    {
     "cell_type": "code",
     "collapsed": false,
     "input": [
      "df['any_inici'].value_counts()"
     ],
     "language": "python",
     "metadata": {},
     "outputs": [
      {
       "metadata": {},
       "output_type": "pyout",
       "prompt_number": 91,
       "text": [
        "2013    292\n",
        "2011    281\n",
        "2012    206\n",
        "2010     93\n",
        "2009     49\n",
        "dtype: int64"
       ]
      }
     ],
     "prompt_number": 91
    },
    {
     "cell_type": "code",
     "collapsed": false,
     "input": [
      "df['itinerari'].value_counts()"
     ],
     "language": "python",
     "metadata": {},
     "outputs": [
      {
       "metadata": {},
       "output_type": "pyout",
       "prompt_number": 92,
       "text": [
        "Z0001    689\n",
        "Z0002    181\n",
        "Z0005     19\n",
        "Z0004     16\n",
        "Z0006      9\n",
        "Z0003      7\n",
        "dtype: int64"
       ]
      }
     ],
     "prompt_number": 92
    },
    {
     "cell_type": "code",
     "collapsed": false,
     "input": [
      "df['tipus_acces'].value_counts()"
     ],
     "language": "python",
     "metadata": {},
     "outputs": [
      {
       "metadata": {},
       "output_type": "pyout",
       "prompt_number": 93,
       "text": [
        "1    735\n",
        "J    163\n",
        "L     23\n",
        "dtype: int64"
       ]
      }
     ],
     "prompt_number": 93
    },
    {
     "cell_type": "code",
     "collapsed": false,
     "input": [
      "df['via_ingres'].value_counts()"
     ],
     "language": "python",
     "metadata": {},
     "outputs": [
      {
       "metadata": {},
       "output_type": "pyout",
       "prompt_number": 94,
       "text": [
        "1     586\n",
        "7     199\n",
        "37     80\n",
        "8      22\n",
        "27     12\n",
        "5      10\n",
        "28      7\n",
        "3       2\n",
        "38      1\n",
        "35      1\n",
        "4       1\n",
        "dtype: int64"
       ]
      }
     ],
     "prompt_number": 94
    },
    {
     "cell_type": "code",
     "collapsed": false,
     "input": [
      "# Possar 'N' en els camps buits\n",
      "# Mirar la relaci\u00f3 entre simultanietat i doble titulaci\u00f3\n",
      "df['simultaneitat'].value_counts()"
     ],
     "language": "python",
     "metadata": {},
     "outputs": [
      {
       "metadata": {},
       "output_type": "pyout",
       "prompt_number": 95,
       "text": [
        "S    216\n",
        "dtype: int64"
       ]
      }
     ],
     "prompt_number": 95
    },
    {
     "cell_type": "code",
     "collapsed": false,
     "input": [
      "df['itinerari_doble'].value_counts()"
     ],
     "language": "python",
     "metadata": {},
     "outputs": [
      {
       "metadata": {},
       "output_type": "pyout",
       "prompt_number": 96,
       "text": [
        "G1035    103\n",
        "G1042     78\n",
        "G1077     73\n",
        "G1072     51\n",
        "dtype: int64"
       ]
      }
     ],
     "prompt_number": 96
    },
    {
     "cell_type": "code",
     "collapsed": false,
     "input": [],
     "language": "python",
     "metadata": {},
     "outputs": []
    }
   ],
   "metadata": {}
  }
 ]
}