{
 "cells": [
  {
   "cell_type": "code",
   "execution_count": 1,
   "metadata": {
    "collapsed": false
   },
   "outputs": [
    {
     "ename": "ImportError",
     "evalue": "No module named Ipython.display",
     "output_type": "error",
     "traceback": [
      "\u001b[1;31m---------------------------------------------------------------------------\u001b[0m",
      "\u001b[1;31mImportError\u001b[0m                               Traceback (most recent call last)",
      "\u001b[1;32m<ipython-input-1-0d4354dc5522>\u001b[0m in \u001b[0;36m<module>\u001b[1;34m()\u001b[0m\n\u001b[0;32m      2\u001b[0m \u001b[1;32mimport\u001b[0m \u001b[0mnumpy\u001b[0m \u001b[1;32mas\u001b[0m \u001b[0mnp\u001b[0m\u001b[1;33m\u001b[0m\u001b[0m\n\u001b[0;32m      3\u001b[0m \u001b[1;32mimport\u001b[0m \u001b[0mpandas\u001b[0m \u001b[1;32mas\u001b[0m \u001b[0mpd\u001b[0m\u001b[1;33m\u001b[0m\u001b[0m\n\u001b[1;32m----> 4\u001b[1;33m \u001b[1;32mfrom\u001b[0m \u001b[0mIpython\u001b[0m\u001b[1;33m.\u001b[0m\u001b[0mdisplay\u001b[0m \u001b[1;32mimport\u001b[0m \u001b[0mdisplay\u001b[0m\u001b[1;33m\u001b[0m\u001b[0m\n\u001b[0m\u001b[0;32m      5\u001b[0m \u001b[1;33m\u001b[0m\u001b[0m\n\u001b[0;32m      6\u001b[0m \u001b[0minfo\u001b[0m\u001b[1;33m=\u001b[0m\u001b[0mpd\u001b[0m\u001b[1;33m.\u001b[0m\u001b[0mread_csv\u001b[0m\u001b[1;33m(\u001b[0m\u001b[1;34m\"../../reg_info.csv\"\u001b[0m\u001b[1;33m,\u001b[0m \u001b[0mna_values\u001b[0m\u001b[1;33m=\u001b[0m\u001b[0mnp\u001b[0m\u001b[1;33m.\u001b[0m\u001b[0mnan\u001b[0m\u001b[1;33m)\u001b[0m\u001b[1;33m\u001b[0m\u001b[0m\n",
      "\u001b[1;31mImportError\u001b[0m: No module named Ipython.display"
     ]
    }
   ],
   "source": [
    "%matplotlib inline\n",
    "import numpy as np\n",
    "import pandas as pd\n",
    "\n",
    "info=pd.read_csv(\"../../reg_info.csv\", na_values=np.nan)\n",
    "mates=pd.read_csv(\"../../reg_mates.csv\", na_values=np.nan)\n",
    "df = pd.concat([info, mates]).reset_index(drop=True)\n",
    "print len(df)"
   ]
  },
  {
   "cell_type": "code",
   "execution_count": null,
   "metadata": {
    "collapsed": false
   },
   "outputs": [],
   "source": [
    "# Eliminamos la columna ID, ya que no es necesaria\n",
    "if 'ID' in df:\n",
    "    df.drop('ID', inplace=True, axis=1)"
   ]
  },
  {
   "cell_type": "code",
   "execution_count": 12,
   "metadata": {
    "collapsed": false
   },
   "outputs": [
    {
     "name": "stdout",
     "output_type": "stream",
     "text": [
      "917\n"
     ]
    }
   ],
   "source": [
    "# Borramos los registros donde aparezca su niub 2 veces i en itirenari_doble aparezca como null. Es decir,\n",
    "# no tenemos en cuenta aquellos que realizan informática y matemáticas a la vez sin hacer la doble titulación.\n",
    "# Total de registros borrados: 4\n",
    "# grouped.filter(lambda x: x[\"niub\"].count()==2 and x['itinerari_doble'].isnull())\n",
    "df = df.groupby(\"niub\").filter(lambda x: x[\"niub\"].count()!=2 or x['itinerari_doble'].notnull())\n",
    "print len(df)"
   ]
  },
  {
   "cell_type": "code",
   "execution_count": 13,
   "metadata": {
    "collapsed": false
   },
   "outputs": [
    {
     "name": "stdout",
     "output_type": "stream",
     "text": [
      "917\n"
     ]
    }
   ],
   "source": [
    "# Escogemos los de doble titulación de mates+info, i los marcamos como que hacen la doble:\n",
    "doble = df.groupby(\"niub\").filter(lambda x: x['niub'].count()==2)\n",
    "doble['enseny'] = 'doble'\n",
    "for i in doble.index:\n",
    "    df.loc[i] = doble.loc[i]\n",
    "print len(df)"
   ]
  },
  {
   "cell_type": "code",
   "execution_count": 14,
   "metadata": {
    "collapsed": false
   },
   "outputs": [
    {
     "name": "stdout",
     "output_type": "stream",
     "text": [
      "Alumnes de doble titulació de física + doble titulació de ADE: 154\n",
      "763\n"
     ]
    }
   ],
   "source": [
    "# Borramos aquellos de doble titulación que no son ni de mates ni de info\n",
    "#altres_doble = df.groupby(\"itinerari_doble\").filter(lambda x: x['itinerari_doble'] != 'G1077' or x['itinerari_doble'] != 'G1042')\n",
    "altres = df[df['itinerari_doble'] != 'G1077']\n",
    "altres = altres[altres['itinerari_doble'] != 'G1042']\n",
    "altres = altres[altres['itinerari_doble'].notnull()]\n",
    "\n",
    "print \"Alumnes de doble titulació de física + doble titulació de ADE:\",len(altres)\n",
    "\n",
    "df.drop(altres.index, inplace=True)\n",
    "\n",
    "print len(df)"
   ]
  },
  {
   "cell_type": "code",
   "execution_count": 15,
   "metadata": {
    "collapsed": false
   },
   "outputs": [
    {
     "name": "stdout",
     "output_type": "stream",
     "text": [
      "690\n"
     ]
    }
   ],
   "source": [
    "# Eliminem els alumnes amb el niub repetit, ja que els de doble titulació apareixen en el reg_mates i reg_info.\n",
    "df = df.drop_duplicates('niub')\n",
    "print len(df)"
   ]
  },
  {
   "cell_type": "code",
   "execution_count": 16,
   "metadata": {
    "collapsed": false
   },
   "outputs": [],
   "source": [
    "# Reseteamos los indices\n",
    "df.reset_index(drop=True, inplace=True)"
   ]
  },
  {
   "cell_type": "code",
   "execution_count": 17,
   "metadata": {
    "collapsed": false
   },
   "outputs": [
    {
     "data": {
      "text/html": [
       "<div style=\"max-height:1000px;max-width:1500px;overflow:auto;\">\n",
       "<table border=\"1\" class=\"dataframe\">\n",
       "  <thead>\n",
       "    <tr style=\"text-align: right;\">\n",
       "      <th></th>\n",
       "      <th>curs</th>\n",
       "      <th>enseny</th>\n",
       "      <th>niub</th>\n",
       "      <th>sexe</th>\n",
       "      <th>data_naixement</th>\n",
       "      <th>pobl_naixem</th>\n",
       "      <th>codi_prov_naix</th>\n",
       "      <th>prov_naix</th>\n",
       "      <th>codi_pais_naix</th>\n",
       "      <th>pais_naix</th>\n",
       "      <th>codi_nacional</th>\n",
       "      <th>nacionalitat</th>\n",
       "      <th>estat_taxa</th>\n",
       "      <th>tipus_beca</th>\n",
       "      <th>becari</th>\n",
       "      <th>any_inici</th>\n",
       "      <th>itinerari</th>\n",
       "      <th>tipus_acces</th>\n",
       "      <th>via_ingres</th>\n",
       "      <th>nota_acces</th>\n",
       "    </tr>\n",
       "  </thead>\n",
       "  <tbody>\n",
       "    <tr>\n",
       "      <th>0</th>\n",
       "      <td> 2013</td>\n",
       "      <td> G1077</td>\n",
       "      <td> 16484252</td>\n",
       "      <td> H</td>\n",
       "      <td> 18-Aug-94</td>\n",
       "      <td> GUAYAQUIL</td>\n",
       "      <td>  0</td>\n",
       "      <td>       NaN</td>\n",
       "      <td> 148</td>\n",
       "      <td> EQUADOR</td>\n",
       "      <td> 100</td>\n",
       "      <td> espanyola</td>\n",
       "      <td> 2</td>\n",
       "      <td> NaN</td>\n",
       "      <td> NaN</td>\n",
       "      <td> 2013</td>\n",
       "      <td> Z0001</td>\n",
       "      <td> 1</td>\n",
       "      <td>  7</td>\n",
       "      <td> 5.45</td>\n",
       "    </tr>\n",
       "    <tr>\n",
       "      <th>1</th>\n",
       "      <td> 2013</td>\n",
       "      <td> doble</td>\n",
       "      <td> 16528514</td>\n",
       "      <td> H</td>\n",
       "      <td> 13-Dec-94</td>\n",
       "      <td>   TOMARES</td>\n",
       "      <td> 41</td>\n",
       "      <td>   Sevilla</td>\n",
       "      <td> 100</td>\n",
       "      <td> ESPANYA</td>\n",
       "      <td> 100</td>\n",
       "      <td> espanyola</td>\n",
       "      <td> 2</td>\n",
       "      <td> NaN</td>\n",
       "      <td> NaN</td>\n",
       "      <td> 2013</td>\n",
       "      <td> Z0001</td>\n",
       "      <td> 1</td>\n",
       "      <td>  1</td>\n",
       "      <td> 7.78</td>\n",
       "    </tr>\n",
       "    <tr>\n",
       "      <th>2</th>\n",
       "      <td> 2013</td>\n",
       "      <td> G1077</td>\n",
       "      <td> 16454793</td>\n",
       "      <td> H</td>\n",
       "      <td>  2-May-90</td>\n",
       "      <td> BARCELONA</td>\n",
       "      <td>  8</td>\n",
       "      <td> Barcelona</td>\n",
       "      <td> 100</td>\n",
       "      <td> ESPANYA</td>\n",
       "      <td> 100</td>\n",
       "      <td> espanyola</td>\n",
       "      <td> 2</td>\n",
       "      <td> NaN</td>\n",
       "      <td> NaN</td>\n",
       "      <td> 2013</td>\n",
       "      <td> Z0001</td>\n",
       "      <td> 1</td>\n",
       "      <td> 37</td>\n",
       "      <td> 7.60</td>\n",
       "    </tr>\n",
       "    <tr>\n",
       "      <th>3</th>\n",
       "      <td> 2013</td>\n",
       "      <td> G1077</td>\n",
       "      <td> 14930786</td>\n",
       "      <td> H</td>\n",
       "      <td> 21-Apr-86</td>\n",
       "      <td> Barcelona</td>\n",
       "      <td>  8</td>\n",
       "      <td> Barcelona</td>\n",
       "      <td> 100</td>\n",
       "      <td> ESPANYA</td>\n",
       "      <td> 100</td>\n",
       "      <td> espanyola</td>\n",
       "      <td> 2</td>\n",
       "      <td> NaN</td>\n",
       "      <td> NaN</td>\n",
       "      <td> 2010</td>\n",
       "      <td> Z0001</td>\n",
       "      <td> J</td>\n",
       "      <td> 27</td>\n",
       "      <td> 0.00</td>\n",
       "    </tr>\n",
       "    <tr>\n",
       "      <th>4</th>\n",
       "      <td> 2013</td>\n",
       "      <td> doble</td>\n",
       "      <td> 16274646</td>\n",
       "      <td> H</td>\n",
       "      <td> 22-Apr-87</td>\n",
       "      <td>  Terrassa</td>\n",
       "      <td>  8</td>\n",
       "      <td> Barcelona</td>\n",
       "      <td> 100</td>\n",
       "      <td> ESPANYA</td>\n",
       "      <td> 100</td>\n",
       "      <td> espanyola</td>\n",
       "      <td> 2</td>\n",
       "      <td> NaN</td>\n",
       "      <td> NaN</td>\n",
       "      <td> 2012</td>\n",
       "      <td> Z0001</td>\n",
       "      <td> 1</td>\n",
       "      <td> 28</td>\n",
       "      <td> 5.81</td>\n",
       "    </tr>\n",
       "  </tbody>\n",
       "</table>\n",
       "</div>"
      ],
      "text/plain": [
       "   curs enseny      niub sexe data_naixement pobl_naixem  codi_prov_naix  \\\n",
       "0  2013  G1077  16484252    H      18-Aug-94   GUAYAQUIL               0   \n",
       "1  2013  doble  16528514    H      13-Dec-94     TOMARES              41   \n",
       "2  2013  G1077  16454793    H       2-May-90   BARCELONA               8   \n",
       "3  2013  G1077  14930786    H      21-Apr-86   Barcelona               8   \n",
       "4  2013  doble  16274646    H      22-Apr-87    Terrassa               8   \n",
       "\n",
       "   prov_naix  codi_pais_naix pais_naix  codi_nacional nacionalitat  \\\n",
       "0        NaN             148   EQUADOR            100    espanyola   \n",
       "1    Sevilla             100   ESPANYA            100    espanyola   \n",
       "2  Barcelona             100   ESPANYA            100    espanyola   \n",
       "3  Barcelona             100   ESPANYA            100    espanyola   \n",
       "4  Barcelona             100   ESPANYA            100    espanyola   \n",
       "\n",
       "   estat_taxa tipus_beca becari  any_inici itinerari tipus_acces  via_ingres  \\\n",
       "0           2        NaN    NaN       2013     Z0001           1           7   \n",
       "1           2        NaN    NaN       2013     Z0001           1           1   \n",
       "2           2        NaN    NaN       2013     Z0001           1          37   \n",
       "3           2        NaN    NaN       2010     Z0001           J          27   \n",
       "4           2        NaN    NaN       2012     Z0001           1          28   \n",
       "\n",
       "   nota_acces  \n",
       "0        5.45  \n",
       "1        7.78  \n",
       "2        7.60  \n",
       "3        0.00  \n",
       "4        5.81  "
      ]
     },
     "execution_count": 17,
     "metadata": {},
     "output_type": "execute_result"
    }
   ],
   "source": [
    "# Per últim eliminarem les columnes 'simultaneitat' i 'itinerari_doble'\n",
    "if 'simultaneitat' in df:\n",
    "    df.drop('simultaneitat', inplace=True, axis=1)\n",
    "if 'itinerari_doble' in df:\n",
    "    df.drop('itinerari_doble', inplace=True, axis=1)\n",
    "df.head()"
   ]
  },
  {
   "cell_type": "code",
   "execution_count": 18,
   "metadata": {
    "collapsed": false
   },
   "outputs": [],
   "source": [
    "# Aquells que no son becaris tenen en el camp: NaN. Tots aquells els possem com que no són becaris\n",
    "df['becari'] = df['becari'].fillna('N')"
   ]
  },
  {
   "cell_type": "code",
   "execution_count": 19,
   "metadata": {
    "collapsed": false
   },
   "outputs": [],
   "source": [
    "#save pandas to csv\n",
    "df.to_csv('../../registers.csv', index=False)"
   ]
  },
  {
   "cell_type": "code",
   "execution_count": 9,
   "metadata": {
    "collapsed": false
   },
   "outputs": [],
   "source": []
  }
 ],
 "metadata": {
  "kernelspec": {
   "display_name": "Python 2",
   "language": "python",
   "name": "python2"
  }
 },
 "nbformat": 4,
 "nbformat_minor": 0
}
