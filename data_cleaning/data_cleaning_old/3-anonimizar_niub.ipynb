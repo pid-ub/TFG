{
 "metadata": {
  "name": "",
  "signature": "sha256:24a0523663682359bc33dac8eba999a331c04f3097616e7a786498ec85471b57"
 },
 "nbformat": 3,
 "nbformat_minor": 0,
 "worksheets": [
  {
   "cells": [
    {
     "cell_type": "code",
     "collapsed": false,
     "input": [
      "PAD = \"tfgub\"\n",
      "%matplotlib inline\n",
      "import numpy as np\n",
      "import pandas as pd\n",
      "from hashlib import sha256\n",
      "\n",
      "reg = pd.read_csv(\"../../registers.csv\", na_values=np.nan)\n",
      "qual = pd.read_csv(\"../../qualifications.csv\", na_values=np.nan)\n",
      "print len(reg)\n",
      "print len(qual)"
     ],
     "language": "python",
     "metadata": {},
     "outputs": [
      {
       "output_type": "stream",
       "stream": "stdout",
       "text": [
        "690\n",
        "31491\n"
       ]
      }
     ],
     "prompt_number": 11
    },
    {
     "cell_type": "code",
     "collapsed": false,
     "input": [
      "# Ejemplo de como funciona sha256\n",
      "sha256(\"hello\").hexdigest()"
     ],
     "language": "python",
     "metadata": {},
     "outputs": [
      {
       "metadata": {},
       "output_type": "pyout",
       "prompt_number": 12,
       "text": [
        "'2cf24dba5fb0a30e26e83b2ac5b9e29e1b161e5c1fa7425e73043362938b9824'"
       ]
      }
     ],
     "prompt_number": 12
    },
    {
     "cell_type": "code",
     "collapsed": false,
     "input": [
      "reg['niub'] = reg['niub'].apply(lambda x: sha256(str(x)+PAD).hexdigest())\n",
      "qual['niub'] = qual['niub'].apply(lambda x: sha256(str(x)+PAD).hexdigest())\n",
      "reg.head()"
     ],
     "language": "python",
     "metadata": {},
     "outputs": [
      {
       "html": [
        "<div style=\"max-height:1000px;max-width:1500px;overflow:auto;\">\n",
        "<table border=\"1\" class=\"dataframe\">\n",
        "  <thead>\n",
        "    <tr style=\"text-align: right;\">\n",
        "      <th></th>\n",
        "      <th>curs</th>\n",
        "      <th>enseny</th>\n",
        "      <th>niub</th>\n",
        "      <th>sexe</th>\n",
        "      <th>data_naixement</th>\n",
        "      <th>pobl_naixem</th>\n",
        "      <th>codi_prov_naix</th>\n",
        "      <th>prov_naix</th>\n",
        "      <th>codi_pais_naix</th>\n",
        "      <th>pais_naix</th>\n",
        "      <th>codi_nacional</th>\n",
        "      <th>nacionalitat</th>\n",
        "      <th>estat_taxa</th>\n",
        "      <th>tipus_beca</th>\n",
        "      <th>becari</th>\n",
        "      <th>any_inici</th>\n",
        "      <th>itinerari</th>\n",
        "      <th>tipus_acces</th>\n",
        "      <th>via_ingres</th>\n",
        "      <th>nota_acces</th>\n",
        "    </tr>\n",
        "  </thead>\n",
        "  <tbody>\n",
        "    <tr>\n",
        "      <th>0</th>\n",
        "      <td> 2013</td>\n",
        "      <td> G1077</td>\n",
        "      <td> c0bee1d781decfb0ac84208382acaa12c4f170c22dc181...</td>\n",
        "      <td> H</td>\n",
        "      <td> 18-Aug-94</td>\n",
        "      <td> GUAYAQUIL</td>\n",
        "      <td>  0</td>\n",
        "      <td>       NaN</td>\n",
        "      <td> 148</td>\n",
        "      <td> EQUADOR</td>\n",
        "      <td> 100</td>\n",
        "      <td> espanyola</td>\n",
        "      <td> 2</td>\n",
        "      <td> NaN</td>\n",
        "      <td> N</td>\n",
        "      <td> 2013</td>\n",
        "      <td> Z0001</td>\n",
        "      <td> 1</td>\n",
        "      <td>  7</td>\n",
        "      <td> 5.45</td>\n",
        "    </tr>\n",
        "    <tr>\n",
        "      <th>1</th>\n",
        "      <td> 2013</td>\n",
        "      <td> doble</td>\n",
        "      <td> 628b0a636d7d04894897fccd2dc000fc8b62f6d864c81a...</td>\n",
        "      <td> H</td>\n",
        "      <td> 13-Dec-94</td>\n",
        "      <td>   TOMARES</td>\n",
        "      <td> 41</td>\n",
        "      <td>   Sevilla</td>\n",
        "      <td> 100</td>\n",
        "      <td> ESPANYA</td>\n",
        "      <td> 100</td>\n",
        "      <td> espanyola</td>\n",
        "      <td> 2</td>\n",
        "      <td> NaN</td>\n",
        "      <td> N</td>\n",
        "      <td> 2013</td>\n",
        "      <td> Z0001</td>\n",
        "      <td> 1</td>\n",
        "      <td>  1</td>\n",
        "      <td> 7.78</td>\n",
        "    </tr>\n",
        "    <tr>\n",
        "      <th>2</th>\n",
        "      <td> 2013</td>\n",
        "      <td> G1077</td>\n",
        "      <td> 160028e2026748ab2b6ff4b97c84059ab006760945adb4...</td>\n",
        "      <td> H</td>\n",
        "      <td>  2-May-90</td>\n",
        "      <td> BARCELONA</td>\n",
        "      <td>  8</td>\n",
        "      <td> Barcelona</td>\n",
        "      <td> 100</td>\n",
        "      <td> ESPANYA</td>\n",
        "      <td> 100</td>\n",
        "      <td> espanyola</td>\n",
        "      <td> 2</td>\n",
        "      <td> NaN</td>\n",
        "      <td> N</td>\n",
        "      <td> 2013</td>\n",
        "      <td> Z0001</td>\n",
        "      <td> 1</td>\n",
        "      <td> 37</td>\n",
        "      <td> 7.60</td>\n",
        "    </tr>\n",
        "    <tr>\n",
        "      <th>3</th>\n",
        "      <td> 2013</td>\n",
        "      <td> G1077</td>\n",
        "      <td> b2da90a17ace42c0623fbf748753ffd642a5909d97cbac...</td>\n",
        "      <td> H</td>\n",
        "      <td> 21-Apr-86</td>\n",
        "      <td> Barcelona</td>\n",
        "      <td>  8</td>\n",
        "      <td> Barcelona</td>\n",
        "      <td> 100</td>\n",
        "      <td> ESPANYA</td>\n",
        "      <td> 100</td>\n",
        "      <td> espanyola</td>\n",
        "      <td> 2</td>\n",
        "      <td> NaN</td>\n",
        "      <td> N</td>\n",
        "      <td> 2010</td>\n",
        "      <td> Z0001</td>\n",
        "      <td> J</td>\n",
        "      <td> 27</td>\n",
        "      <td> 0.00</td>\n",
        "    </tr>\n",
        "    <tr>\n",
        "      <th>4</th>\n",
        "      <td> 2013</td>\n",
        "      <td> doble</td>\n",
        "      <td> 7753f4f3cc702352b58738d39e93018b3fb092ce487a0b...</td>\n",
        "      <td> H</td>\n",
        "      <td> 22-Apr-87</td>\n",
        "      <td>  Terrassa</td>\n",
        "      <td>  8</td>\n",
        "      <td> Barcelona</td>\n",
        "      <td> 100</td>\n",
        "      <td> ESPANYA</td>\n",
        "      <td> 100</td>\n",
        "      <td> espanyola</td>\n",
        "      <td> 2</td>\n",
        "      <td> NaN</td>\n",
        "      <td> N</td>\n",
        "      <td> 2012</td>\n",
        "      <td> Z0001</td>\n",
        "      <td> 1</td>\n",
        "      <td> 28</td>\n",
        "      <td> 5.81</td>\n",
        "    </tr>\n",
        "  </tbody>\n",
        "</table>\n",
        "</div>"
       ],
       "metadata": {},
       "output_type": "pyout",
       "prompt_number": 13,
       "text": [
        "   curs enseny                                               niub sexe  \\\n",
        "0  2013  G1077  c0bee1d781decfb0ac84208382acaa12c4f170c22dc181...    H   \n",
        "1  2013  doble  628b0a636d7d04894897fccd2dc000fc8b62f6d864c81a...    H   \n",
        "2  2013  G1077  160028e2026748ab2b6ff4b97c84059ab006760945adb4...    H   \n",
        "3  2013  G1077  b2da90a17ace42c0623fbf748753ffd642a5909d97cbac...    H   \n",
        "4  2013  doble  7753f4f3cc702352b58738d39e93018b3fb092ce487a0b...    H   \n",
        "\n",
        "  data_naixement pobl_naixem  codi_prov_naix  prov_naix  codi_pais_naix  \\\n",
        "0      18-Aug-94   GUAYAQUIL               0        NaN             148   \n",
        "1      13-Dec-94     TOMARES              41    Sevilla             100   \n",
        "2       2-May-90   BARCELONA               8  Barcelona             100   \n",
        "3      21-Apr-86   Barcelona               8  Barcelona             100   \n",
        "4      22-Apr-87    Terrassa               8  Barcelona             100   \n",
        "\n",
        "  pais_naix  codi_nacional nacionalitat  estat_taxa tipus_beca becari  \\\n",
        "0   EQUADOR            100    espanyola           2        NaN      N   \n",
        "1   ESPANYA            100    espanyola           2        NaN      N   \n",
        "2   ESPANYA            100    espanyola           2        NaN      N   \n",
        "3   ESPANYA            100    espanyola           2        NaN      N   \n",
        "4   ESPANYA            100    espanyola           2        NaN      N   \n",
        "\n",
        "   any_inici itinerari tipus_acces  via_ingres  nota_acces  \n",
        "0       2013     Z0001           1           7        5.45  \n",
        "1       2013     Z0001           1           1        7.78  \n",
        "2       2013     Z0001           1          37        7.60  \n",
        "3       2010     Z0001           J          27        0.00  \n",
        "4       2012     Z0001           1          28        5.81  "
       ]
      }
     ],
     "prompt_number": 13
    },
    {
     "cell_type": "code",
     "collapsed": false,
     "input": [
      "#Comprobamos que no hayan colisiones:\n",
      "print \"Colisiones:\",len(reg.groupby(\"niub\").filter(lambda x: x['niub'].count()!=1))"
     ],
     "language": "python",
     "metadata": {},
     "outputs": [
      {
       "output_type": "stream",
       "stream": "stdout",
       "text": [
        "Colisiones: "
       ]
      },
      {
       "output_type": "stream",
       "stream": "stdout",
       "text": [
        "0\n"
       ]
      }
     ],
     "prompt_number": 14
    },
    {
     "cell_type": "code",
     "collapsed": false,
     "input": [
      "# Guardamos los csv:\n",
      "reg.to_csv(\"../../registers.csv\", index=False)\n",
      "qual.to_csv(\"../../qualifications.csv\", index=False)"
     ],
     "language": "python",
     "metadata": {},
     "outputs": [],
     "prompt_number": 15
    },
    {
     "cell_type": "code",
     "collapsed": false,
     "input": [],
     "language": "python",
     "metadata": {},
     "outputs": [],
     "prompt_number": 5
    }
   ],
   "metadata": {}
  }
 ]
}