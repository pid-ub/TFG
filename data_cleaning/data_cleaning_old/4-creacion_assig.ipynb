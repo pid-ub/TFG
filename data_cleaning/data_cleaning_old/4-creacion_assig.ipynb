{
 "metadata": {
  "name": "",
  "signature": "sha256:d7cc59c22db81b15850698323b271b350d4b6211d9cd45dcbefe6bbd7e044c20"
 },
 "nbformat": 3,
 "nbformat_minor": 0,
 "worksheets": [
  {
   "cells": [
    {
     "cell_type": "code",
     "collapsed": false,
     "input": [
      "%matplotlib inline\n",
      "import numpy as np\n",
      "import pandas as pd\n",
      "\n",
      "qual = pd.read_csv(\"../../qualifications.csv\", na_values=np.nan)\n",
      "qual.columns"
     ],
     "language": "python",
     "metadata": {},
     "outputs": [
      {
       "metadata": {},
       "output_type": "pyout",
       "prompt_number": 10,
       "text": [
        "Index([u'niub', u'enseny_assig', u'curs_assig', u'quad_assig', u'assig', u'grup_assig', u'apunt_assig', u'tipus_apunt_assig', u'tipus_assig', u'tipus_acta_assig', u'qualification_assig'], dtype='object')"
       ]
      }
     ],
     "prompt_number": 10
    },
    {
     "cell_type": "code",
     "collapsed": false,
     "input": [
      "# Borramos las columnas que no se repiten y aplicamos un drop_duplicate\n",
      "# Columnas que borramos para quedarnos en la tabla de asignaturas:\n",
      "# - niub\n",
      "# - curs_assig\n",
      "# - grup_assig\n",
      "# - apunt_assig\n",
      "# - tipus_apunt_assig\n",
      "# - tipus_assig\n",
      "# - tipus_acta_assig\n",
      "# - qualification_assig\n",
      "assig = pd.DataFrame(qual)\n",
      "cols = ['niub', 'curs_assig', 'grup_assig', 'apunt_assig', 'tipus_apunt_assig', 'tipus_assig', 'tipus_acta_assig', 'qualification_assig']\n",
      "for i in cols:\n",
      "    assig.drop(i, inplace=True, axis=1)\n",
      "\n",
      "assig = assig.drop_duplicates('assig')\n",
      "# Reseteamos los indices\n",
      "assig.reset_index(drop=True, inplace=True)"
     ],
     "language": "python",
     "metadata": {},
     "outputs": [],
     "prompt_number": 11
    },
    {
     "cell_type": "code",
     "collapsed": false,
     "input": [
      "# Se tienen que borrar las qualificaciones que no sean ni de mates ni info\n",
      "print len(assig)\n",
      "altres = assig[assig['enseny_assig'] != 'G1077']\n",
      "altres = altres[altres['enseny_assig'] != 'G1042']\n",
      "altres = altres[altres['enseny_assig'].notnull()]\n",
      "\n",
      "assig.drop(altres.index, inplace=True)\n",
      "\n",
      "print len(assig)"
     ],
     "language": "python",
     "metadata": {},
     "outputs": [
      {
       "output_type": "stream",
       "stream": "stdout",
       "text": [
        "202\n",
        "157"
       ]
      },
      {
       "output_type": "stream",
       "stream": "stdout",
       "text": [
        "\n"
       ]
      }
     ],
     "prompt_number": 12
    },
    {
     "cell_type": "code",
     "collapsed": false,
     "input": [
      "# Borramos las columnas que ya aparecen en la tabla de asignaturas\n",
      "for i in qual.columns:\n",
      "    if i not in cols and i != 'assig':\n",
      "        qual.drop(i, inplace=True, axis=1)"
     ],
     "language": "python",
     "metadata": {},
     "outputs": [],
     "prompt_number": 13
    },
    {
     "cell_type": "code",
     "collapsed": false,
     "input": [
      "# Guardamos los csv:\n",
      "qual.to_csv(\"../../qualifications.csv\", index=False)\n",
      "assig.to_csv(\"../../assig.csv\", index=False)"
     ],
     "language": "python",
     "metadata": {},
     "outputs": [],
     "prompt_number": 14
    },
    {
     "cell_type": "code",
     "collapsed": false,
     "input": [],
     "language": "python",
     "metadata": {},
     "outputs": []
    }
   ],
   "metadata": {}
  }
 ]
}