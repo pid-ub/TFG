{
 "cells": [
  {
   "cell_type": "code",
   "execution_count": 2,
   "metadata": {
    "collapsed": false
   },
   "outputs": [],
   "source": [
    "import numpy as np\n",
    "import pandas as pd\n",
    "from IPython.display import display\n",
    "\n",
    "reg = pd.read_csv(\"../../registers.csv\", na_values=np.nan)\n",
    "assig = pd.read_csv(\"../../assigs.csv\", na_values=np.nan)\n",
    "reg_quals = pd.read_csv(\"../../conv.csv\", na_values=np.nan)\n",
    "qual = pd.read_csv(\"../../qualifications.csv\", na_values=np.nan)"
   ]
  },
  {
   "cell_type": "code",
   "execution_count": 3,
   "metadata": {
    "collapsed": false
   },
   "outputs": [
    {
     "name": "stdout",
     "output_type": "stream",
     "text": [
      "Index([u'id_alumne', u'sexe', u'naixement', u'nacionalitat', u'simultaneitat', u'becat', u'priv_pub_cfgs', u'tipus_lloc_cfgs', u'lloc_cfgs', u'priv_pub_secundaria', u'tipus_lloc_secundaria', u'lloc_secundaria', u'desc_via_acces', u'id_via_acces', u'any_pau', u'universitat_procedencia', u'universitat_procedencia_desc', u'sistema_educatiu_estranger', u'pais_sistema_estranger', u'nota_acces', u'desc_enseny', u'id_enseny', u'any_primera_matricula'], dtype='object')\n",
      "\n",
      "Index([u'id_assig', u'desc_assig', u'curs_assig', u'semestre_assig', u'id_enseny_assig', u'credits_assig'], dtype='object')\n",
      "\n",
      "Index([u'any_matriculacio_assig', u'id_alumne', u'id_enseny', u'id_assig', u'tipus_apunt', u'nota_primera_conv', u'nota_segona_conv'], dtype='object')\n",
      "\n",
      "Index([u'id_alumne', u'id_enseny', u'nota_mitja_grau', u'credits_superats', u'id_itinerari', u'itinerari_desc', u'dedicacio', u'num_assig_convalidades'], dtype='object')\n"
     ]
    }
   ],
   "source": [
    "# Mostrem les columnes de cada taula, per tenir-la present\n",
    "print reg.columns\n",
    "print\n",
    "print assig.columns\n",
    "print\n",
    "print qual.columns\n",
    "print \n",
    "print reg_quals.columns"
   ]
  },
  {
   "cell_type": "code",
   "execution_count": 4,
   "metadata": {
    "collapsed": false
   },
   "outputs": [
    {
     "data": {
      "text/plain": [
       "Concertat    6\n",
       "Públic       5\n",
       "dtype: int64"
      ]
     },
     "metadata": {},
     "output_type": "display_data"
    }
   ],
   "source": [
    "display(reg.priv_pub_cfgs.value_counts())"
   ]
  },
  {
   "cell_type": "code",
   "execution_count": 5,
   "metadata": {
    "collapsed": false
   },
   "outputs": [
    {
     "data": {
      "text/plain": [
       "Públic       62\n",
       "Concertat    20\n",
       "Privat       14\n",
       "dtype: int64"
      ]
     },
     "metadata": {},
     "output_type": "display_data"
    }
   ],
   "source": [
    "display(reg.priv_pub_secundaria.value_counts())"
   ]
  },
  {
   "cell_type": "code",
   "execution_count": 6,
   "metadata": {
    "collapsed": false
   },
   "outputs": [
    {
     "data": {
      "text/plain": [
       "Barcelonès           30\n",
       "Illes Balears         9\n",
       "Baix Llobregat        8\n",
       "Vallès Oriental       6\n",
       "Maresme               6\n",
       "Segrià                4\n",
       "Anoia                 4\n",
       "Gironès               3\n",
       "Garraf                3\n",
       "Osona                 3\n",
       "Solsonès              2\n",
       "Tarragonès            2\n",
       "Baix Ebre             2\n",
       "Alt Empordà           1\n",
       "Baix Empordà          1\n",
       "País Basc             1\n",
       "Terra Alta            1\n",
       "Vallès Occidental     1\n",
       "Baix Penedès          1\n",
       "Cerdanya              1\n",
       "Selva                 1\n",
       "Baix Camp             1\n",
       "Lituània              1\n",
       "Hondures              1\n",
       "Regió de Múrcia       1\n",
       "Montsià               1\n",
       "Berguedà              1\n",
       "dtype: int64"
      ]
     },
     "metadata": {},
     "output_type": "display_data"
    }
   ],
   "source": [
    "display(reg.lloc_secundaria.value_counts())"
   ]
  },
  {
   "cell_type": "code",
   "execution_count": 7,
   "metadata": {
    "collapsed": false
   },
   "outputs": [
    {
     "data": {
      "text/plain": [
       "0    527\n",
       "7    237\n",
       "4    129\n",
       "8     48\n",
       "2     16\n",
       "9      9\n",
       "dtype: int64"
      ]
     },
     "metadata": {},
     "output_type": "display_data"
    }
   ],
   "source": [
    "display(reg.id_via_acces.value_counts())"
   ]
  },
  {
   "cell_type": "code",
   "execution_count": 8,
   "metadata": {
    "collapsed": false
   },
   "outputs": [
    {
     "data": {
      "text/plain": [
       "Matemàtiques              516\n",
       "Enginyeria Informàtica    450\n",
       "dtype: int64"
      ]
     },
     "metadata": {},
     "output_type": "display_data"
    }
   ],
   "source": [
    "display(reg.desc_enseny.value_counts())"
   ]
  },
  {
   "cell_type": "code",
   "execution_count": 9,
   "metadata": {
    "collapsed": false
   },
   "outputs": [
    {
     "data": {
      "text/plain": [
       "2010    166\n",
       "2013    164\n",
       "2012    163\n",
       "2011    163\n",
       "2014    158\n",
       "2009    152\n",
       "dtype: int64"
      ]
     },
     "metadata": {},
     "output_type": "display_data"
    }
   ],
   "source": [
    "display(reg.any_primera_matricula.value_counts())"
   ]
  },
  {
   "cell_type": "code",
   "execution_count": 10,
   "metadata": {
    "collapsed": false
   },
   "outputs": [
    {
     "data": {
      "text/plain": [
       "G1077    48\n",
       "G1042    46\n",
       "dtype: int64"
      ]
     },
     "metadata": {},
     "output_type": "display_data"
    }
   ],
   "source": [
    "display(assig.id_enseny_assig.value_counts())"
   ]
  },
  {
   "cell_type": "code",
   "execution_count": 11,
   "metadata": {
    "collapsed": false
   },
   "outputs": [
    {
     "data": {
      "text/plain": [
       "G1042    516\n",
       "G1077    450\n",
       "dtype: int64"
      ]
     },
     "metadata": {},
     "output_type": "display_data"
    }
   ],
   "source": [
    "display(reg.id_enseny.value_counts())"
   ]
  },
  {
   "cell_type": "code",
   "execution_count": 12,
   "metadata": {
    "collapsed": false
   },
   "outputs": [
    {
     "data": {
      "text/plain": [
       "G1077    9595\n",
       "G1042    7720\n",
       "dtype: int64"
      ]
     },
     "metadata": {},
     "output_type": "display_data"
    }
   ],
   "source": [
    "display(qual.id_enseny.value_counts())"
   ]
  },
  {
   "cell_type": "code",
   "execution_count": 13,
   "metadata": {
    "collapsed": false
   },
   "outputs": [
    {
     "data": {
      "text/plain": [
       "via 0: Batxillerat/COU amb PAU                  527\n",
       "via 7: Universitaris Batxillerat/COU amb PAU    237\n",
       "via 4: FP2, CFGS                                129\n",
       "via 8: Universitaris FP2 / CFGS                  48\n",
       "via 2: Diplomat, Llicenciat                      16\n",
       "via 9: Majors de 25 anys                          9\n",
       "dtype: int64"
      ]
     },
     "metadata": {},
     "output_type": "display_data"
    }
   ],
   "source": [
    "display(reg.desc_via_acces.value_counts())"
   ]
  },
  {
   "cell_type": "code",
   "execution_count": 14,
   "metadata": {
    "collapsed": false
   },
   "outputs": [
    {
     "data": {
      "text/plain": [
       "Ordinari         14733\n",
       "Reconeixement     1981\n",
       "Convalidat         601\n",
       "dtype: int64"
      ]
     },
     "metadata": {},
     "output_type": "display_data"
    }
   ],
   "source": [
    "display(qual.tipus_apunt.value_counts())"
   ]
  },
  {
   "cell_type": "code",
   "execution_count": null,
   "metadata": {
    "collapsed": true
   },
   "outputs": [],
   "source": []
  }
 ],
 "metadata": {
  "kernelspec": {
   "display_name": "Python 2",
   "language": "python",
   "name": "python2"
  },
  "language_info": {
   "codemirror_mode": {
    "name": "ipython",
    "version": 2
   },
   "file_extension": ".py",
   "mimetype": "text/x-python",
   "name": "python",
   "nbconvert_exporter": "python",
   "pygments_lexer": "ipython2",
   "version": "2.7.10"
  }
 },
 "nbformat": 4,
 "nbformat_minor": 0
}
