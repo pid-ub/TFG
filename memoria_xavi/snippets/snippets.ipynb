{
 "cells": [
  {
   "cell_type": "code",
   "execution_count": 3,
   "metadata": {
    "collapsed": false
   },
   "outputs": [
    {
     "name": "stdout",
     "output_type": "stream",
     "text": [
      "None\n"
     ]
    },
    {
     "data": {
      "image/png": "[encoded data removed]",
      "text/plain": [
       "<matplotlib.figure.Figure at 0x7fbc69b5bb50>"
      ]
     },
     "metadata": {},
     "output_type": "display_data"
    }
   ],
   "source": [
    "%matplotlib inline\n",
    "import seaborn as sbn\n",
    "palette = sbn.color_palette(\"hls\", 5)\n",
    "a = sbn.palplot(palette)\n"
   ]
  },
  {
   "cell_type": "code",
   "execution_count": 12,
   "metadata": {
    "collapsed": false
   },
   "outputs": [
    {
     "name": "stdout",
     "output_type": "stream",
     "text": [
      "47.9271056831\n"
     ]
    }
   ],
   "source": [
    "from sklearn.linear_model import LinearRegression\n",
    "# Definim les variables\n",
    "X = [(1,2,3),\n",
    "     (5,3,2),\n",
    "     (3,1,0),\n",
    "     (123,433,452),\n",
    "     (233,231,786)]\n",
    "\n",
    "# Apliquem la mitja per cada Xi\n",
    "y = [2,\n",
    "     3.33,\n",
    "     1.33,\n",
    "     336,\n",
    "     416]\n",
    "\n",
    "# Serà capaç de predir la mitja? \n",
    "x = (45,34,65) # 48?\n",
    "predictor = LinearRegression()\n",
    "predictor.fit(X,y)\n",
    "print predictor.predict(x)\n",
    "# >> 47.9271056831"
   ]
  },
  {
   "cell_type": "markdown",
   "metadata": {},
   "source": []
  }
 ],
 "metadata": {
  "kernelspec": {
   "display_name": "Python 2",
   "language": "python",
   "name": "python2"
  },
  "language_info": {
   "codemirror_mode": {
    "name": "ipython",
    "version": 2
   },
   "file_extension": ".py",
   "mimetype": "text/x-python",
   "name": "python",
   "nbconvert_exporter": "python",
   "pygments_lexer": "ipython2",
   "version": "2.7.10"
  }
 },
 "nbformat": 4,
 "nbformat_minor": 0
}
