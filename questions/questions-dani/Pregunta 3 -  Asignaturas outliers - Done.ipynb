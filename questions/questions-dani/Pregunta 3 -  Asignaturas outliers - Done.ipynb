{
 "cells": [
  {
   "cell_type": "markdown",
   "metadata": {},
   "source": [
    "## ¿Hay asignaturas \"outliers\" que tienen notas de los alumnos muy diferentes del resto?"
   ]
  },
  {
   "cell_type": "markdown",
   "metadata": {},
   "source": [
    "#### Con este planteamiento queremos verificar si hay asignaturas en las cuales los alumnos tienen notas muy diferentes respecto a las demás asignaturas o si las notas de alguna asignatura tienen una baja correlación en comparación con las notas de las demás asignaturas."
   ]
  },
  {
   "cell_type": "code",
   "execution_count": 1,
   "metadata": {
    "collapsed": false
   },
   "outputs": [],
   "source": [
    "import numpy as np\n",
    "import pandas as pd\n",
    "import json"
   ]
  },
  {
   "cell_type": "markdown",
   "metadata": {},
   "source": [
    "#####Función que permite selecionar un subconjunto que cumpla con una determinada condición de un dataFrame"
   ]
  },
  {
   "cell_type": "code",
   "execution_count": 2,
   "metadata": {
    "collapsed": true
   },
   "outputs": [],
   "source": [
    "def select_rows(df, group, col):\n",
    "    #Creamos un nueva DataFrame\n",
    "    out = pd.DataFrame()\n",
    "    tmp = df.copy()\n",
    "    # Recorremos los grupos\n",
    "    for s in group:\n",
    "        # Añadimos al DataFrame el nuevo elemento\n",
    "        out = pd.concat([out, tmp[tmp[col] == s]])\n",
    "    out = out.reset_index(drop=True)\n",
    "    return out"
   ]
  },
  {
   "cell_type": "markdown",
   "metadata": {},
   "source": [
    "##### Función que permite selecionar las notas de sus alumnos es función de unas asignaturas dadas"
   ]
  },
  {
   "cell_type": "code",
   "execution_count": 3,
   "metadata": {
    "collapsed": true
   },
   "outputs": [],
   "source": [
    "def table_students(df, group_subjects):\n",
    "    # Con select_rows_by_subjects , nos quedamos con sólo las calificaciones de las asignaturas de primer curso\n",
    "    grp = select_rows(df, group_subjects, 'id_assig')\n",
    "    grp = grp[grp[\"tipus_apunt\"] != \"Convalidat\"]\n",
    "    # Agrupamos las asignaturas por el NIUB\n",
    "    students_by_niub = grp.groupby('id_alumne').size()\n",
    "    # De esta agrupación nos quedamos con los NIUBS que aparecen len(group_subjects) veces.\n",
    "    students_by_niub = students_by_niub.index[students_by_niub >= len(group_subjects)]\n",
    "    # Creamos una tabla tal que: alumnos-assignaturas y a cada celula la nota correspondiente\n",
    "    grp_qual = grp.pivot_table('nota_primera_conv', index='id_alumne',columns='id_assig', aggfunc='max')\n",
    "    # Ahora que sabemos los alumnso que han cursado  asignatueas deseadas, los selecionamos.\n",
    "    grp_qual = grp_qual.ix[students_by_niub]\n",
    "    grp_qual.dropna(inplace=True, axis=0)\n",
    "    return grp_qual"
   ]
  },
  {
   "cell_type": "markdown",
   "metadata": {},
   "source": [
    "##### Cargamos las tablas con los datos de las calificaciones y de las asignaturas"
   ]
  },
  {
   "cell_type": "code",
   "execution_count": 4,
   "metadata": {
    "collapsed": false
   },
   "outputs": [],
   "source": [
    "assig = pd.read_csv(\"datos3/assigs.csv\", na_values=np.nan)\n",
    "qualifications = pd.read_csv(\"datos3/qualifications.csv\", na_values=np.nan)"
   ]
  },
  {
   "cell_type": "markdown",
   "metadata": {},
   "source": [
    "##### Nos quedamos con las asignaturas del grado de Ingeniería Informática del primer, segundo y tercer curso"
   ]
  },
  {
   "cell_type": "code",
   "execution_count": 5,
   "metadata": {
    "collapsed": false
   },
   "outputs": [],
   "source": [
    "# Eliminamos las asignaturas que no sean del grado de Ingeniería Informática\n",
    "assig2 =assig[assig['id_enseny_assig']  == 'G1077']\n",
    "# Selecionamos las asignaturas del primer, segundo y tercer curso\n",
    "assig_ter = select_rows(assig2, [1,2,3], 'curs_assig')['id_assig']\n",
    "# Pasamos los identificadores de las asignaturas a una lista\n",
    "list_assig = assig_ter.values"
   ]
  },
  {
   "cell_type": "markdown",
   "metadata": {},
   "source": [
    "##### Selecionamos las asignaturas del cursto curso y las mostramos"
   ]
  },
  {
   "cell_type": "code",
   "execution_count": 6,
   "metadata": {
    "collapsed": false
   },
   "outputs": [
    {
     "name": "stdout",
     "output_type": "stream",
     "text": [
      "    id_assig                                 desc_assig\n",
      "0     364313                         Ètica i Legislació\n",
      "1     364316                    Enginyeria del Software\n",
      "2     364319                                   Robòtica\n",
      "3     364320  Aprenentatge Automàtic i Mineria de Dades\n",
      "4     364321      Intel·ligència Artificial Distribuïda\n",
      "5     364324                     Processament d'Imatges\n",
      "6     364325                     Tecnologies Multimèdia\n",
      "7     364326                Computació Orientada al Web\n",
      "8     364327                   Bases de Dades Avançades\n",
      "9     364329                        Software Concurrent\n",
      "10    364318                 Pràctiques en Empreses III\n",
      "11    364318                 Pràctiques en Empreses III\n",
      "12    364331                   Pràctiques en Empreses I\n",
      "13    364331                   Pràctiques en Empreses I\n",
      "14    364332                  Pràctiques en Empreses II\n",
      "15    364332                  Pràctiques en Empreses II\n",
      "16    364317                      Treball de Fi de Grau\n",
      "17    364317                      Treball de Fi de Grau\n"
     ]
    }
   ],
   "source": [
    "assig_cuart = select_rows(assig2, [4], 'curs_assig')[['id_assig', 'desc_assig']]\n",
    "print assig_cuart"
   ]
  },
  {
   "cell_type": "markdown",
   "metadata": {},
   "source": [
    "##### Añadimos a la lista de asignaturas, las 3 asignaturas obligatorias del cursto curso: Ètica i Legislació, Enginyeria del Software y Treball de Fi de Grau"
   ]
  },
  {
   "cell_type": "code",
   "execution_count": 7,
   "metadata": {
    "collapsed": false
   },
   "outputs": [],
   "source": [
    "list_assig = list(list_assig)\n",
    "\n",
    "list_assig.append(364313)\n",
    "list_assig.append(364316)\n",
    "list_assig.append(364317)"
   ]
  },
  {
   "cell_type": "markdown",
   "metadata": {},
   "source": [
    "##### Nos quedamos con las notas de las asignaturas mas arriba selecionadas. Tendremos en cada fila, el identificador del alumno junto con las notas de este alumno en cada uno de las asignaturas"
   ]
  },
  {
   "cell_type": "code",
   "execution_count": 8,
   "metadata": {
    "collapsed": false
   },
   "outputs": [],
   "source": [
    "# Obtenemos una tabla con las calificaciones de los alumnos por cada asignatura\n",
    "tt = table_students(qualifications, list_assig)\n",
    "# Hacemos la traspuesta de la matriz\n",
    "ttt = tt.T"
   ]
  },
  {
   "cell_type": "markdown",
   "metadata": {},
   "source": [
    "##### Pasamos la matriz con las calificaciones a un DataFrame y obtenemos la matriz de correlación de Spearman entre las calificaciones de cada asignatura"
   ]
  },
  {
   "cell_type": "code",
   "execution_count": 9,
   "metadata": {
    "collapsed": false
   },
   "outputs": [],
   "source": [
    "coll = []\n",
    "coll.append(list_assig[0])\n",
    "# Creamos un nuevo DataFrame para guardar los datos\n",
    "df1 = pd.DataFrame(ttt.ix[list_assig[0]], columns=coll)\n",
    "# Añadimos las calificaciones de cada asignatura al DataFrame\n",
    "for i in range(1,len(list_assig)):\n",
    "    df1[list_assig[i]] = pd.Series(ttt.ix[list_assig[i]], index=df1.index)\n",
    "# Obtenemos la matriz de correlación\n",
    "corr= df1.corr()\n",
    "ddd = corr.as_matrix()"
   ]
  },
  {
   "cell_type": "markdown",
   "metadata": {},
   "source": [
    "##### A continuaciñon creamos un JSON tal que por cada asignatura se selecionan las 4 asignaturas mas correlacionadas. En el caso de que todos los coeficientes de correlación de una asignaturas son menores que 0.5, esta asignaturas se queda sin relaciones, es decir outlier."
   ]
  },
  {
   "cell_type": "code",
   "execution_count": 10,
   "metadata": {
    "collapsed": false
   },
   "outputs": [],
   "source": [
    "jsonn = []\n",
    "\n",
    "# Recorremos la lista de las asignaturas\n",
    "for asi in list_assig:\n",
    "    # Obtenemos la lista de correlaciones de la asignatura ascual\n",
    "    yy = corr.ix[asi]\n",
    "    # Ordenamos las asignaturas en función de sus correlaciones\n",
    "    yy_sort = yy.order(ascending=False)[1:5]\n",
    "    indx_values =  yy_sort.values\n",
    "    indx = yy_sort.index.values\n",
    "    leg = []\n",
    "    # Recorremos la lista de las asignaturas correlacionadas y nos quedamos con las mejores 4\n",
    "    k = 0\n",
    "    for ind in indx:\n",
    "        # Verificamos si el indice de correlación supero el limite de 0.5\n",
    "        if indx_values[0] > 0.5:\n",
    "            # Creamos el string del JSON\n",
    "            assig_s = \"a.\" + assig[assig['id_assig'] == ind]['desc_assig'].values[0]\n",
    "            leg.append(assig_s)\n",
    "        k+=1\n",
    "        \n",
    "    assig_p = \"a.\" + assig[assig['id_assig'] == asi]['desc_assig'].values[0]\n",
    "    d = {} \n",
    "    # Añadimos los nuevos elementos al JSON\n",
    "    d[\"name\"] = assig_p\n",
    "    d[\"size\"] = 5000\n",
    "    d[\"imports\"] = leg\n",
    "    jsonn.append(d)"
   ]
  },
  {
   "cell_type": "markdown",
   "metadata": {},
   "source": [
    "##### Guardamos el JSON en un archivo al disco"
   ]
  },
  {
   "cell_type": "code",
   "execution_count": 11,
   "metadata": {
    "collapsed": false
   },
   "outputs": [],
   "source": [
    "with open('readme-flare-imports.json', 'w') as outfile:\n",
    "    json.dump(jsonn, outfile)\n",
    "    \n",
    "#print json.dumps(jsonn)"
   ]
  },
  {
   "cell_type": "code",
   "execution_count": null,
   "metadata": {
    "collapsed": true
   },
   "outputs": [],
   "source": []
  }
 ],
 "metadata": {
  "kernelspec": {
   "display_name": "Python 2",
   "language": "python",
   "name": "python2"
  },
  "language_info": {
   "codemirror_mode": {
    "name": "ipython",
    "version": 2
   },
   "file_extension": ".py",
   "mimetype": "text/x-python",
   "name": "python",
   "nbconvert_exporter": "python",
   "pygments_lexer": "ipython2",
   "version": "2.7.9"
  }
 },
 "nbformat": 4,
 "nbformat_minor": 0
}
