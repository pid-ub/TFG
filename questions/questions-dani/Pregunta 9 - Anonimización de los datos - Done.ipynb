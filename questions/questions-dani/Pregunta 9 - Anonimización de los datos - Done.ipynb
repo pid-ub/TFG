{
 "cells": [
  {
   "cell_type": "markdown",
   "metadata": {},
   "source": [
    "### Posibilidad de identificación de un sujeto despues de la anonimización de los datos"
   ]
  },
  {
   "cell_type": "markdown",
   "metadata": {},
   "source": [
    "Actualmente la anonimización realizada por el departamento de gestión académica que nos proporcionó los datos consiste en cambiar el NIUB de los alumnos por un identificador único que no tiene ninguna relación alfa-numérica con el \\textit{NIUB}. Es decir, sabiendo solo los identificadores de los alumnos es imposible saber de quién se trata realmente debido a que  no se conoce la manera ni el orden de asignar los nuevos identificadores.\n",
    "\n",
    "Debido a que los datos no se tienen que publicar actualmente, no se ha aplicado ninguna técnica de anonimización potente. Por este motivo queremos saber si, disponiendo de varios datos sobre un sujeto en particular, se podría llegar a identificarlo.\n",
    "\n",
    "Por ejemplo, se exponen los siguientes casos hipotéticos que podrían llevar a la identificación de un sujeto"
   ]
  },
  {
   "cell_type": "code",
   "execution_count": 1,
   "metadata": {
    "collapsed": false
   },
   "outputs": [],
   "source": [
    "import numpy as np\n",
    "import pandas as pd\n",
    "import datetime"
   ]
  },
  {
   "cell_type": "markdown",
   "metadata": {},
   "source": [
    "#####Función que permite selecionar un subconjunto que cumpla con una determinada condición de un dataFrame"
   ]
  },
  {
   "cell_type": "code",
   "execution_count": 2,
   "metadata": {
    "collapsed": true
   },
   "outputs": [],
   "source": [
    "def select_rows(df, group, col):\n",
    "    #Creamos un nueva DataFrame\n",
    "    out = pd.DataFrame()\n",
    "    tmp = df.copy()\n",
    "    # Recorremos los grupos\n",
    "    for s in group:\n",
    "        # Añadimos al DataFrame el nuevo elemento\n",
    "        out = pd.concat([out, tmp[tmp[col] == s]])\n",
    "    out = out.reset_index(drop=True)\n",
    "    return out"
   ]
  },
  {
   "cell_type": "markdown",
   "metadata": {},
   "source": [
    "##### Leemos los datos cargando las tablas necesarias"
   ]
  },
  {
   "cell_type": "code",
   "execution_count": 3,
   "metadata": {
    "collapsed": true
   },
   "outputs": [],
   "source": [
    "registers = pd.read_csv(\"datos3/registers.csv\", na_values=np.nan)\n",
    "qualifications = pd.read_csv(\"datos3/qualifications.csv\", na_values=np.nan)"
   ]
  },
  {
   "cell_type": "markdown",
   "metadata": {},
   "source": [
    "##### Unimos la tabla que representa los registros de los alumnos con la tabla que representa las calificaciones. De este modo tendremos por cada linea, una calificación, junto con toda la información del alumno."
   ]
  },
  {
   "cell_type": "code",
   "execution_count": 4,
   "metadata": {
    "collapsed": false
   },
   "outputs": [],
   "source": [
    "datos = pd.merge(registers, qualifications)"
   ]
  },
  {
   "cell_type": "markdown",
   "metadata": {},
   "source": [
    "#####A continuación intentaremos a partir de unos casos ipoteticos la identificación de una o varias personas\n",
    "###Ejemplo 1. \n",
    "\n",
    "Supongamos que disponemos de la sigueinte información acerca de una persona:\n",
    "\n",
    "+ Año de nacimiento: 1986\n",
    "+ Sexo: hombre\n",
    "+ Población del centro de secundaria: Castelldefels (comarca Baix Llobregat)\n",
    "\n",
    "A continuación se mostrara que con saber esta información podríamos identificar a esta persona dentro de la base de datos y acceder a la información relacionada.\n",
    "\n",
    "Primero filtramos los registros por el año de nacimeinto de las personas: 1986"
   ]
  },
  {
   "cell_type": "code",
   "execution_count": 5,
   "metadata": {
    "collapsed": false
   },
   "outputs": [
    {
     "name": "stdout",
     "output_type": "stream",
     "text": [
      "Numero de alumnos nacido el 1986: 22\n"
     ]
    }
   ],
   "source": [
    "datos1 = datos[datos['naixement'] == 1986].reset_index(drop=True)\n",
    "print \"Numero de alumnos nacido el 1986: \" + str(len(datos1.id_alumne.unique()))"
   ]
  },
  {
   "cell_type": "markdown",
   "metadata": {},
   "source": [
    "#####Podremos ver que la lista de alumnos se ha reducido a 22.\n",
    "\n",
    "A continuación filtraremos los registros segun el sexo de tal manera que nos quedemos solo con los varones.\n"
   ]
  },
  {
   "cell_type": "code",
   "execution_count": 6,
   "metadata": {
    "collapsed": false
   },
   "outputs": [
    {
     "name": "stdout",
     "output_type": "stream",
     "text": [
      "Numero de alumnos varones que han nacido el 1986: 803\n"
     ]
    }
   ],
   "source": [
    "datos1 = datos1[datos1['sexe'] == 'H'].reset_index(drop=True)\n",
    "print \"Numero de alumnos varones que han nacido el 1986: \" + str(len(datos.id_alumne.unique()))"
   ]
  },
  {
   "cell_type": "markdown",
   "metadata": {},
   "source": [
    "#####Podremos ver que la lista de alumnos se ha reducido a 21.\n",
    "\n",
    "A continuación filtraremos los registros segun la comarca donde han cursado la secundario, en este caso Baix Llobregat"
   ]
  },
  {
   "cell_type": "code",
   "execution_count": 7,
   "metadata": {
    "collapsed": false
   },
   "outputs": [
    {
     "name": "stdout",
     "output_type": "stream",
     "text": [
      "Numero de alumnos varones que han nacido el 1986 y que han cursado la secundaria en la comarca de Baix Llobregat: 1\n"
     ]
    }
   ],
   "source": [
    "datos1 = datos1[datos1['lloc_secundaria'] == 'Baix Llobregat'].reset_index(drop=True)\n",
    "print \"Numero de alumnos varones que han nacido el 1986 y que han cursado la secundaria en la comarca de Baix Llobregat: \" + str(len(datos1.id_alumne.unique()))"
   ]
  },
  {
   "cell_type": "markdown",
   "metadata": {},
   "source": [
    "##### Como podremos ver con estos tres datos que sabiamos sobre una persona pudimos identificarla dentro de la base de datos de este modo pudiendo ver toda su información.\n",
    "\n",
    "#### Una posible solución al problema de este caso sería añadir un pequeño ruido a los datos que representan los años o subir el nivel que de la area administrativa a una provincia en vez de una comarca."
   ]
  },
  {
   "cell_type": "markdown",
   "metadata": {},
   "source": [
    "###Ejemplo 2. \n",
    "\n",
    "Supongamos que disponemos de la sigueinte información acerca de una persona:\n",
    "\n",
    "+ Nota de las pruebas PAU: 6.915\n",
    "\n",
    "\n",
    "A continuación se mostrara que con saber esta información podríamos identificar a esta persona dentro de la base de datos y acceder a la información relacionada.\n",
    "\n",
    "Filtramos los registros por la nota de las Pruebas PAU: 6.915"
   ]
  },
  {
   "cell_type": "code",
   "execution_count": 8,
   "metadata": {
    "collapsed": false
   },
   "outputs": [
    {
     "name": "stdout",
     "output_type": "stream",
     "text": [
      "Numero de alumnos con la nota de las pruebas PAU igual a 6.915: 1\n"
     ]
    }
   ],
   "source": [
    "datos2 = datos[datos['nota_acces'] == 6.915].reset_index(drop=True)\n",
    "print \"Numero de alumnos con la nota de las pruebas PAU igual a 6.915: \" + str(len(datos2.id_alumne.unique()))"
   ]
  },
  {
   "cell_type": "markdown",
   "metadata": {},
   "source": [
    "##### Como podremos ver solo con saber la nota de las pruebas PAU de una persona, pudimos identificarla dentro de la base de datos\n",
    "\n",
    "#### Podríamos solucionar este problema añadiendo un ruido a las notas de acceso o quitar decimales"
   ]
  },
  {
   "cell_type": "markdown",
   "metadata": {},
   "source": [
    "###Ejemplo 3. \n",
    "\n",
    "Supongamos que disponemos de la sigueinte información acerca de una persona:\n",
    "\n",
    "+ Notas de las asignaturas cursadas: 5.8, 8.9, 5.5, 6.2, 7.8\n",
    "\n",
    "\n",
    "A continuación se mostrara que con saber esta información podríamos identificar a esta persona dentro de la base de datos y acceder a la información relacionada.\n",
    "\n",
    "Filtramos los registros por la lista de notas mas arriba indicados."
   ]
  },
  {
   "cell_type": "code",
   "execution_count": 9,
   "metadata": {
    "collapsed": false
   },
   "outputs": [
    {
     "name": "stdout",
     "output_type": "stream",
     "text": [
      "Numero de alumnos encontrados con las siguientes notas [5.8, 8.9, 5.5, 6.2, 7.8]: 1\n"
     ]
    }
   ],
   "source": [
    "notas = [5.8, 8.9, 5.5, 6.2, 7.8]\n",
    "\n",
    "# Nos quedamos con los registros que tiene estas notas\n",
    "uno = datos[datos['nota_primera_conv'] == 5.8].reset_index(drop=True)\n",
    "dos = datos[datos['nota_primera_conv'] == 8.9].reset_index(drop=True)\n",
    "tres = datos[datos['nota_primera_conv'] == 5.5].reset_index(drop=True)\n",
    "cuatro = datos[datos['nota_primera_conv'] == 6.2].reset_index(drop=True)\n",
    "cinco = datos[datos['nota_primera_conv'] == 7.8].reset_index(drop=True)\n",
    "\n",
    "# Concatenamos los DataFrames\n",
    "datos3 = pd.concat([uno, dos, tres, cuatro, cinco])\n",
    "# Selecionamos los identificadors de los alumnos\n",
    "ids = datos3.id_alumne.unique()\n",
    "# Agrupamos los datos en funcíon de los identificadores de los alumnos\n",
    "gg = datos3.groupby('id_alumne')\n",
    "\n",
    "id_alumnes = []\n",
    "# Recorremos los identificadores de los alumnos\n",
    "for id_alumne in ids:\n",
    "    # Obtenemos las notas del alumno actual\n",
    "    alumne = gg.get_group(id_alumne)['nota_primera_conv'].values\n",
    "    # Si ele alumnos acual tiene al menos el mismo numero de notas que las definicad anteriormente, continuamos con la verificación\n",
    "    if (len(alumne) >= len(notas)):\n",
    "        k = 0\n",
    "        # Recorremos las notas definidas anteriormente\n",
    "        for nota in notas:\n",
    "            if nota in alumne:\n",
    "                k+=1\n",
    "        # Si el alumnos dispone de todas las notas, lo guardamos\n",
    "        if k == len (notas):\n",
    "            id_alumnes.append(gg.get_group(id_alumne)['id_alumne'].unique())\n",
    "            \n",
    "\n",
    "print \"Numero de alumnos encontrados con las siguientes notas \" + str(notas) + \": \" + str(len(id_alumnes))"
   ]
  },
  {
   "cell_type": "markdown",
   "metadata": {},
   "source": [
    "#### Podríamos solucionar este problema añadiendo un ruido a las notas de acceso o quitar decimales"
   ]
  },
  {
   "cell_type": "markdown",
   "metadata": {
    "collapsed": true
   },
   "source": [
    "###Ejemplo 4. \n",
    "\n",
    "Supongamos que disponemos de la sigueinte información acerca de una persona:\n",
    "\n",
    "+ Nota de la asignatura cursada de Algebra (364291): 8.5\n",
    "+ Nota de la asignatura cursada de : Electronica (364305): 7.7\n",
    "\n",
    "\n",
    "A continuación se mostrara que con saber esta información podríamos identificar a esta persona dentro de la base de datos y acceder a la información relacionada.\n",
    "\n",
    "Filtramos los registros por la lista de notas mas arriba indicados."
   ]
  },
  {
   "cell_type": "code",
   "execution_count": 10,
   "metadata": {
    "collapsed": false
   },
   "outputs": [],
   "source": [
    "asignaturas = [364291, 364305]\n",
    "# Nos quedamos solo con las calificaciones de las dos asignaturas\n",
    "datos4_A = datos[datos['id_assig'] == 364291].reset_index(drop=True)\n",
    "datos4_B = datos[datos['id_assig'] == 364305].reset_index(drop=True)\n",
    "# Nos quedamos solo con las calificaciones que son iguales a las dos ya establecidas\n",
    "datos4_A = datos4_A[datos4_A['nota_primera_conv'] == 8.5]\n",
    "datos4_B = datos4_B[datos4_B['nota_primera_conv'] == 7.7]"
   ]
  },
  {
   "cell_type": "code",
   "execution_count": 11,
   "metadata": {
    "collapsed": false
   },
   "outputs": [
    {
     "name": "stdout",
     "output_type": "stream",
     "text": [
      "Numero de alumnos encontrados: 1\n"
     ]
    }
   ],
   "source": [
    "datos4 = pd.concat([datos4_A, datos4_B])\n",
    "# Obtenemos los identificadores de los usuarios\n",
    "ids = datos4.id_alumne.unique()\n",
    "# Agrupamos las calificaciones por los identificadores de los usuarios\n",
    "datos4 = datos4.groupby('id_alumne')\n",
    "\n",
    "id_alumnes = []\n",
    "# Recorremos la lista de los usuarios\n",
    "for id_alumne in ids:\n",
    "    # Obtenemos las notas del alumno actual\n",
    "    gr = datos4.get_group(id_alumne)['id_assig'].values\n",
    "    # Si ele alumnos acual tiene al menos el mismo numero de notas que las definicad anteriormente, continuamos con la verificación\n",
    "    if (len(gr) >= len(asignaturas)):\n",
    "        k = 0\n",
    "        # Recorremos las notas definidas anteriormente\n",
    "        for asig in asignaturas:\n",
    "            if asig in gr:\n",
    "                k+=1\n",
    "        # Si el alumnos dispone de todas las notas, lo guardamos\n",
    "        if k == len (asignaturas):\n",
    "            id_alumnes.append(datos4.get_group(id_alumne)['id_alumne'].unique())\n",
    "        \n",
    "print \"Numero de alumnos encontrados: \" + str(len(id_alumnes))"
   ]
  },
  {
   "cell_type": "markdown",
   "metadata": {},
   "source": [
    "#### Podríamos solucionar este problema añadiendo un ruido a las notas de acceso o quitar decimales"
   ]
  },
  {
   "cell_type": "markdown",
   "metadata": {},
   "source": [
    "##### A continuación podemos ver las columnas disponibles en la tabla de los registros"
   ]
  },
  {
   "cell_type": "code",
   "execution_count": 12,
   "metadata": {
    "collapsed": false
   },
   "outputs": [
    {
     "name": "stdout",
     "output_type": "stream",
     "text": [
      "Index([u'id_alumne', u'sexe', u'naixement', u'nacionalitat', u'simultaneitat', u'becat', u'priv_pub_cfgs', u'tipus_lloc_cfgs', u'lloc_cfgs', u'priv_pub_secundaria', u'tipus_lloc_secundaria', u'lloc_secundaria', u'desc_via_acces', u'id_via_acces', u'any_pau', u'universitat_procedencia', u'universitat_procedencia_desc', u'sistema_educatiu_estranger', u'pais_sistema_estranger', u'nota_acces', u'desc_enseny', u'id_enseny', u'any_primera_matricula'], dtype='object')\n"
     ]
    }
   ],
   "source": [
    "print registers.columns"
   ]
  },
  {
   "cell_type": "markdown",
   "metadata": {},
   "source": [
    "##### Selecionamos aquellas columnas que creemos que podrían hacer posible la desanonimización de los alumnos"
   ]
  },
  {
   "cell_type": "code",
   "execution_count": 13,
   "metadata": {
    "collapsed": true
   },
   "outputs": [],
   "source": [
    "reg = registers[[u'sexe', u'naixement', u'nacionalitat', u'simultaneitat', u'becat', u'priv_pub_cfgs', u'tipus_lloc_cfgs', u'lloc_cfgs', u'priv_pub_secundaria', u'tipus_lloc_secundaria', u'lloc_secundaria', u'id_via_acces', u'any_pau', u'universitat_procedencia', u'sistema_educatiu_estranger', u'pais_sistema_estranger', u'nota_acces', u'id_enseny', u'any_primera_matricula']]"
   ]
  },
  {
   "cell_type": "markdown",
   "metadata": {},
   "source": [
    "##### Obtenemos los valores unicos de todas las columnas"
   ]
  },
  {
   "cell_type": "code",
   "execution_count": 14,
   "metadata": {
    "collapsed": true
   },
   "outputs": [],
   "source": [
    "d = {}\n",
    "# Recorremos todas las columnas\n",
    "for a in reg.columns:\n",
    "    # Obtenemos los valores unicos de la columna actual\n",
    "    lista = reg.get(a).unique()\n",
    "    # Eliminamos los valores nan\n",
    "    cleanedList = [x for x in lista if str(x) != 'nan']\n",
    "    d[a] = cleanedList"
   ]
  },
  {
   "cell_type": "markdown",
   "metadata": {},
   "source": [
    "##### A continuación verificaremos cuantos alumnos se pueden identificar con la premisa de que se pueden conocer DOS de dos columnas distintas"
   ]
  },
  {
   "cell_type": "code",
   "execution_count": 15,
   "metadata": {
    "collapsed": false
   },
   "outputs": [],
   "source": [
    "# Guardaremos los resultados en un diccionario\n",
    "dic = {}\n",
    "coin = 0\n",
    "no_coin = 0\n",
    "# Obtenemos los nombres de las columnas disponiles\n",
    "ke = d.keys()\n",
    "# Recorremos las columnas\n",
    "while (len(ke) > 0):\n",
    "    aa = ke.pop()\n",
    "    # Recorremos los valores de la columna actual\n",
    "    for a in d.get(aa):\n",
    "        ke2 = list(ke)\n",
    "        # Recorremos las columnas\n",
    "        while (len(ke2) > 0):\n",
    "            bb = ke2.pop()\n",
    "            # Recorremos los valores de la columna actual\n",
    "            for b in d.get(bb):\n",
    "                regi = reg\n",
    "                # Aplicamos los filtros con los dos datos que conocemos\n",
    "                regi = regi[regi[aa] == a]\n",
    "                regi = regi[regi[bb] == b]\n",
    "                par = dic.get((aa, bb))\n",
    "                # Guardamos el numero de indentificaciones\n",
    "                if (par == None):\n",
    "                    dic[(aa, bb)] = (0,0)\n",
    "                x, y = dic.get((aa, bb))\n",
    "                if (0 < regi.shape[0] < 5):\n",
    "                    coin += 1\n",
    "                    x += 1\n",
    "                    y += 1\n",
    "                else:\n",
    "                    no_coin += 1\n",
    "                    y += 1\n",
    "                dic[(aa, bb)] = (x,y)"
   ]
  },
  {
   "cell_type": "markdown",
   "metadata": {},
   "source": [
    "##### Calculamos los porcentajes de identificación por cada par posible de columnas"
   ]
  },
  {
   "cell_type": "code",
   "execution_count": 16,
   "metadata": {
    "collapsed": false
   },
   "outputs": [],
   "source": [
    "new_d = {}\n",
    "for key, value in dic.iteritems():\n",
    "    a, b = value\n",
    "    if (a == 0 or b == 0):\n",
    "        new_d[key] = 0\n",
    "    else:\n",
    "        new_d[key] = a * 1.0 / b"
   ]
  },
  {
   "cell_type": "markdown",
   "metadata": {},
   "source": [
    "##### Ordenamos los procentajes descendentemente y los mostramos"
   ]
  },
  {
   "cell_type": "code",
   "execution_count": 17,
   "metadata": {
    "collapsed": false
   },
   "outputs": [
    {
     "name": "stdout",
     "output_type": "stream",
     "text": [
      "(('lloc_cfgs', 'tipus_lloc_cfgs'), 1.0)\n",
      "(('priv_pub_cfgs', 'lloc_cfgs'), 0.75)\n",
      "(('id_enseny', 'lloc_cfgs'), 0.75)\n",
      "(('lloc_secundaria', 'sexe'), 0.6296296296296297)\n",
      "(('lloc_secundaria', 'becat'), 0.6296296296296297)\n",
      "(('lloc_cfgs', 'sexe'), 0.625)\n",
      "(('lloc_cfgs', 'simultaneitat'), 0.625)\n",
      "(('pais_sistema_estranger', 'sexe'), 0.625)\n",
      "(('lloc_cfgs', 'becat'), 0.625)\n",
      "(('id_enseny', 'pais_sistema_estranger'), 0.625)\n",
      "(('id_enseny', 'nacionalitat'), 0.6041666666666666)\n",
      "(('pais_sistema_estranger', 'simultaneitat'), 0.5625)\n",
      "(('id_enseny', 'nota_acces'), 0.5549668874172186)\n",
      "(('nota_acces', 'becat'), 0.5516556291390728)\n",
      "(('nota_acces', 'sexe'), 0.5410596026490067)\n",
      "(('nota_acces', 'simultaneitat'), 0.5052980132450331)\n",
      "(('tipus_lloc_cfgs', 'simultaneitat'), 0.5)\n",
      "(('id_enseny', 'tipus_lloc_cfgs'), 0.5)\n",
      "(('priv_pub_cfgs', 'sexe'), 0.5)\n",
      "(('tipus_lloc_secundaria', 'simultaneitat'), 0.5)\n",
      "(('sistema_educatiu_estranger', 'priv_pub_secundaria'), 0.5)\n",
      "(('id_enseny', 'priv_pub_cfgs'), 0.5)\n",
      "(('priv_pub_cfgs', 'becat'), 0.5)\n",
      "(('nacionalitat', 'becat'), 0.5)\n",
      "(('becat', 'tipus_lloc_cfgs'), 0.5)\n",
      "(('tipus_lloc_cfgs', 'sexe'), 0.5)\n",
      "(('sistema_educatiu_estranger', 'lloc_cfgs'), 0.5)\n",
      "(('nacionalitat', 'sexe'), 0.4791666666666667)\n",
      "(('lloc_secundaria', 'id_enseny'), 0.46296296296296297)\n",
      "(('universitat_procedencia', 'simultaneitat'), 0.44642857142857145)\n",
      "(('lloc_secundaria', 'sistema_educatiu_estranger'), 0.4444444444444444)\n",
      "(('lloc_secundaria', 'simultaneitat'), 0.4444444444444444)\n",
      "(('sistema_educatiu_estranger', 'pais_sistema_estranger'), 0.4375)\n",
      "(('pais_sistema_estranger', 'becat'), 0.4375)\n",
      "(('nacionalitat', 'sistema_educatiu_estranger'), 0.4375)\n",
      "(('id_enseny', 'naixement'), 0.42424242424242425)\n",
      "(('lloc_secundaria', 'priv_pub_secundaria'), 0.41975308641975306)\n",
      "(('sistema_educatiu_estranger', 'nota_acces'), 0.41721854304635764)\n",
      "(('id_via_acces', 'priv_pub_cfgs'), 0.4166666666666667)\n",
      "(('id_enseny', 'any_pau'), 0.4)\n",
      "(('any_pau', 'simultaneitat'), 0.4)\n",
      "(('sistema_educatiu_estranger', 'naixement'), 0.3939393939393939)\n",
      "(('id_enseny', 'universitat_procedencia'), 0.39285714285714285)\n",
      "(('becat', 'naixement'), 0.3787878787878788)\n",
      "(('tipus_lloc_secundaria', 'sexe'), 0.375)\n",
      "(('sistema_educatiu_estranger', 'tipus_lloc_secundaria'), 0.375)\n",
      "(('universitat_procedencia', 'sexe'), 0.375)\n",
      "(('naixement', 'sexe'), 0.36363636363636365)\n",
      "(('id_via_acces', 'any_primera_matricula'), 0.3611111111111111)\n",
      "(('any_pau', 'sexe'), 0.36)\n",
      "(('becat', 'any_pau'), 0.36)\n",
      "(('becat', 'universitat_procedencia'), 0.35714285714285715)\n",
      "(('nacionalitat', 'any_primera_matricula'), 0.3541666666666667)\n",
      "(('nacionalitat', 'simultaneitat'), 0.3541666666666667)\n",
      "(('naixement', 'simultaneitat'), 0.3484848484848485)\n",
      "(('id_enseny', 'priv_pub_secundaria'), 0.3333333333333333)\n",
      "(('id_via_acces', 'tipus_lloc_cfgs'), 0.3333333333333333)\n",
      "(('tipus_lloc_cfgs', 'priv_pub_secundaria'), 0.3333333333333333)\n",
      "(('sistema_educatiu_estranger', 'any_primera_matricula'), 0.3333333333333333)\n",
      "(('sistema_educatiu_estranger', 'any_pau'), 0.32)\n",
      "(('pais_sistema_estranger', 'any_primera_matricula'), 0.3125)\n",
      "(('sistema_educatiu_estranger', 'universitat_procedencia'), 0.30357142857142855)\n",
      "(('id_via_acces', 'any_pau'), 0.29333333333333333)\n",
      "(('id_via_acces', 'naixement'), 0.2777777777777778)\n",
      "(('any_pau', 'any_primera_matricula'), 0.2733333333333333)\n",
      "(('naixement', 'any_primera_matricula'), 0.2727272727272727)\n",
      "(('universitat_procedencia', 'priv_pub_secundaria'), 0.2619047619047619)\n",
      "(('tipus_lloc_secundaria', 'priv_pub_secundaria'), 0.25)\n",
      "(('sistema_educatiu_estranger', 'simultaneitat'), 0.25)\n",
      "(('id_via_acces', 'sistema_educatiu_estranger'), 0.25)\n",
      "(('any_primera_matricula', 'simultaneitat'), 0.25)\n",
      "(('universitat_procedencia', 'any_primera_matricula'), 0.25)\n",
      "(('priv_pub_cfgs', 'simultaneitat'), 0.25)\n",
      "(('tipus_lloc_secundaria', 'tipus_lloc_cfgs'), 0.25)\n",
      "(('tipus_lloc_secundaria', 'becat'), 0.25)\n",
      "(('id_enseny', 'tipus_lloc_secundaria'), 0.25)\n",
      "(('sistema_educatiu_estranger', 'becat'), 0.25)\n",
      "(('sistema_educatiu_estranger', 'sexe'), 0.25)\n",
      "(('id_via_acces', 'pais_sistema_estranger'), 0.22916666666666666)\n",
      "(('id_via_acces', 'priv_pub_secundaria'), 0.2222222222222222)\n",
      "(('id_via_acces', 'nacionalitat'), 0.2222222222222222)\n",
      "(('lloc_secundaria', 'id_via_acces'), 0.2222222222222222)\n",
      "(('id_via_acces', 'lloc_cfgs'), 0.20833333333333334)\n",
      "(('id_via_acces', 'tipus_lloc_secundaria'), 0.20833333333333334)\n",
      "(('lloc_secundaria', 'tipus_lloc_secundaria'), 0.2037037037037037)\n",
      "(('nota_acces', 'any_primera_matricula'), 0.19757174392935983)\n",
      "(('id_via_acces', 'nota_acces'), 0.1911699779249448)\n",
      "(('tipus_lloc_cfgs', 'naixement'), 0.18181818181818182)\n",
      "(('lloc_cfgs', 'any_primera_matricula'), 0.16666666666666666)\n",
      "(('lloc_cfgs', 'priv_pub_secundaria'), 0.16666666666666666)\n",
      "(('id_via_acces', 'sexe'), 0.16666666666666666)\n",
      "(('id_via_acces', 'becat'), 0.16666666666666666)\n",
      "(('sexe', 'priv_pub_secundaria'), 0.16666666666666666)\n",
      "(('simultaneitat', 'priv_pub_secundaria'), 0.16666666666666666)\n",
      "(('id_enseny', 'id_via_acces'), 0.16666666666666666)\n",
      "(('priv_pub_cfgs', 'priv_pub_secundaria'), 0.16666666666666666)\n",
      "(('pais_sistema_estranger', 'priv_pub_secundaria'), 0.16666666666666666)\n",
      "(('becat', 'priv_pub_secundaria'), 0.16666666666666666)\n",
      "(('tipus_lloc_cfgs', 'any_pau'), 0.16)\n",
      "(('any_pau', 'priv_pub_secundaria'), 0.16)\n",
      "(('lloc_secundaria', 'any_primera_matricula'), 0.15432098765432098)\n",
      "(('id_via_acces', 'universitat_procedencia'), 0.14285714285714285)\n",
      "(('priv_pub_cfgs', 'naixement'), 0.13636363636363635)\n",
      "(('tipus_lloc_secundaria', 'any_primera_matricula'), 0.125)\n",
      "(('priv_pub_cfgs', 'tipus_lloc_secundaria'), 0.125)\n",
      "(('tipus_lloc_secundaria', 'lloc_cfgs'), 0.125)\n",
      "(('tipus_lloc_secundaria', 'pais_sistema_estranger'), 0.125)\n",
      "(('naixement', 'priv_pub_secundaria'), 0.12121212121212122)\n",
      "(('priv_pub_cfgs', 'any_pau'), 0.12)\n",
      "(('universitat_procedencia', 'any_pau'), 0.12)\n",
      "(('naixement', 'universitat_procedencia'), 0.11471861471861472)\n",
      "(('nacionalitat', 'any_pau'), 0.11)\n",
      "(('naixement', 'any_pau'), 0.1006060606060606)\n",
      "(('tipus_lloc_secundaria', 'any_pau'), 0.1)\n",
      "(('nacionalitat', 'priv_pub_secundaria'), 0.09722222222222222)\n",
      "(('nacionalitat', 'naixement'), 0.09343434343434344)\n",
      "(('tipus_lloc_secundaria', 'naixement'), 0.09090909090909091)\n",
      "(('pais_sistema_estranger', 'any_pau'), 0.075)\n",
      "(('lloc_secundaria', 'tipus_lloc_cfgs'), 0.07407407407407407)\n",
      "(('nacionalitat', 'tipus_lloc_secundaria'), 0.07291666666666667)\n",
      "(('tipus_lloc_cfgs', 'universitat_procedencia'), 0.07142857142857142)\n",
      "(('nacionalitat', 'universitat_procedencia'), 0.07142857142857142)\n",
      "(('priv_pub_cfgs', 'universitat_procedencia'), 0.07142857142857142)\n",
      "(('lloc_cfgs', 'any_pau'), 0.07)\n",
      "(('lloc_secundaria', 'any_pau'), 0.0637037037037037)\n",
      "(('tipus_lloc_secundaria', 'universitat_procedencia'), 0.0625)\n",
      "(('pais_sistema_estranger', 'naixement'), 0.06060606060606061)\n",
      "(('any_primera_matricula', 'priv_pub_secundaria'), 0.05555555555555555)\n",
      "(('lloc_secundaria', 'naixement'), 0.05499438832772166)\n",
      "(('nacionalitat', 'pais_sistema_estranger'), 0.052083333333333336)\n",
      "(('nota_acces', 'any_pau'), 0.04895364238410596)\n",
      "(('lloc_cfgs', 'naixement'), 0.045454545454545456)\n",
      "(('lloc_cfgs', 'universitat_procedencia'), 0.044642857142857144)\n",
      "(('nacionalitat', 'nota_acces'), 0.04310154525386314)\n",
      "(('nacionalitat', 'lloc_cfgs'), 0.041666666666666664)\n",
      "(('lloc_secundaria', 'nacionalitat'), 0.040123456790123455)\n",
      "(('nota_acces', 'priv_pub_secundaria'), 0.039735099337748346)\n",
      "(('nota_acces', 'naixement'), 0.0374473208910295)\n",
      "(('lloc_secundaria', 'universitat_procedencia'), 0.037037037037037035)\n",
      "(('lloc_secundaria', 'priv_pub_cfgs'), 0.037037037037037035)\n",
      "(('nota_acces', 'universitat_procedencia'), 0.03557237464522233)\n",
      "(('pais_sistema_estranger', 'universitat_procedencia'), 0.03125)\n",
      "(('tipus_lloc_secundaria', 'nota_acces'), 0.02847682119205298)\n",
      "(('lloc_secundaria', 'lloc_cfgs'), 0.018518518518518517)\n",
      "(('lloc_secundaria', 'pais_sistema_estranger'), 0.018518518518518517)\n",
      "(('nota_acces', 'tipus_lloc_cfgs'), 0.013245033112582781)\n",
      "(('priv_pub_cfgs', 'nota_acces'), 0.006622516556291391)\n",
      "(('lloc_secundaria', 'nota_acces'), 0.004611233750306598)\n",
      "(('pais_sistema_estranger', 'nota_acces'), 0.002814569536423841)\n",
      "(('lloc_cfgs', 'nota_acces'), 0.002317880794701987)\n",
      "(('becat', 'any_primera_matricula'), 0)\n",
      "(('id_enseny', 'any_primera_matricula'), 0)\n",
      "(('sistema_educatiu_estranger', 'priv_pub_cfgs'), 0)\n",
      "(('id_enseny', 'simultaneitat'), 0)\n",
      "(('priv_pub_cfgs', 'tipus_lloc_cfgs'), 0)\n",
      "(('pais_sistema_estranger', 'lloc_cfgs'), 0)\n",
      "(('id_enseny', 'sistema_educatiu_estranger'), 0)\n",
      "(('becat', 'simultaneitat'), 0)\n",
      "(('id_enseny', 'becat'), 0)\n",
      "(('sexe', 'simultaneitat'), 0)\n",
      "(('nacionalitat', 'priv_pub_cfgs'), 0)\n",
      "(('becat', 'sexe'), 0)\n",
      "(('priv_pub_cfgs', 'any_primera_matricula'), 0)\n",
      "(('id_enseny', 'sexe'), 0)\n",
      "(('priv_pub_cfgs', 'pais_sistema_estranger'), 0)\n",
      "(('sexe', 'any_primera_matricula'), 0)\n",
      "(('nacionalitat', 'tipus_lloc_cfgs'), 0)\n",
      "(('pais_sistema_estranger', 'tipus_lloc_cfgs'), 0)\n",
      "(('tipus_lloc_cfgs', 'any_primera_matricula'), 0)\n",
      "(('id_via_acces', 'simultaneitat'), 0)\n",
      "(('sistema_educatiu_estranger', 'tipus_lloc_cfgs'), 0)\n"
     ]
    }
   ],
   "source": [
    "import operator\n",
    "sorted_x = sorted(new_d.items(), key=operator.itemgetter(1), reverse = True)\n",
    "\n",
    "for i in sorted_x:\n",
    "    print i"
   ]
  },
  {
   "cell_type": "markdown",
   "metadata": {
    "collapsed": true
   },
   "source": [
    "##### A continuación verificaremos cuantos alumnos se pueden identificar con la premisa de que se puede conocer UN dato de cualquier columna"
   ]
  },
  {
   "cell_type": "code",
   "execution_count": 18,
   "metadata": {
    "collapsed": false
   },
   "outputs": [],
   "source": [
    "# Guardaremos los resultados en un diccionario\n",
    "dic = {}\n",
    "coin = 0\n",
    "no_coin = 0\n",
    "# Obtenemos los nombres de las columnas disponibles\n",
    "ke = d.keys()\n",
    "# Recorremos las columnas\n",
    "while (len(ke) > 0):\n",
    "    aa = ke.pop()\n",
    "    # Recorremos los valores de la columna actual\n",
    "    for a in d.get(aa):\n",
    "        regi = reg\n",
    "        # Aplicamos los filtros con el dato que se conoce\n",
    "        regi = regi[regi[aa] == a]\n",
    "        par = dic.get(aa)\n",
    "        # Guardamos el numero de indentificaciones\n",
    "        if (par == None):\n",
    "            dic[aa] = (0,0)\n",
    "        x, y = dic.get(aa)\n",
    "        if (0 < regi.shape[0] < 5):\n",
    "            coin += 1\n",
    "            x += 1\n",
    "            y += 1\n",
    "        else:\n",
    "            no_coin += 1\n",
    "            y += 1\n",
    "        dic[aa] = (x, y) "
   ]
  },
  {
   "cell_type": "markdown",
   "metadata": {},
   "source": [
    "##### Calculamos los porcentajes de identificación por cada par posible de columnas"
   ]
  },
  {
   "cell_type": "code",
   "execution_count": 19,
   "metadata": {
    "collapsed": true
   },
   "outputs": [],
   "source": [
    "new_d = {}\n",
    "for key, value in dic.iteritems():\n",
    "    a, b = value\n",
    "    if (a == 0 or b == 0):\n",
    "        new_d[key] = 0\n",
    "    else:\n",
    "        new_d[key] = a * 1.0 / b"
   ]
  },
  {
   "cell_type": "markdown",
   "metadata": {},
   "source": [
    "##### Ordenamos los procentajes descendentemente y los mostramos"
   ]
  },
  {
   "cell_type": "code",
   "execution_count": 20,
   "metadata": {
    "collapsed": false
   },
   "outputs": [
    {
     "name": "stdout",
     "output_type": "stream",
     "text": [
      "[('lloc_cfgs', 1.0), ('nota_acces', 0.9933774834437086), ('pais_sistema_estranger', 0.875), ('lloc_secundaria', 0.8148148148148148), ('nacionalitat', 0.6666666666666666), ('universitat_procedencia', 0.6071428571428571), ('any_pau', 0.52), ('naixement', 0.5151515151515151), ('tipus_lloc_secundaria', 0.5), ('any_primera_matricula', 0), ('sexe', 0), ('sistema_educatiu_estranger', 0), ('priv_pub_secundaria', 0), ('tipus_lloc_cfgs', 0), ('becat', 0), ('priv_pub_cfgs', 0), ('id_via_acces', 0), ('id_enseny', 0), ('simultaneitat', 0)]\n"
     ]
    }
   ],
   "source": [
    "import operator\n",
    "sorted_x = sorted(new_d.items(), key=operator.itemgetter(1), reverse = True)\n",
    "\n",
    "print sorted_x"
   ]
  },
  {
   "cell_type": "markdown",
   "metadata": {},
   "source": [
    "### Anonimización de los datos - Agregación"
   ]
  },
  {
   "cell_type": "markdown",
   "metadata": {},
   "source": [
    "#### Visto que se pueden llegar a identificar alumnos conociendo alguno de sus datos, verificaremos que tecnicas de anonimización podemos aplciar para hacer imposible la identificación"
   ]
  },
  {
   "cell_type": "markdown",
   "metadata": {},
   "source": [
    "#### Ejemplo 1. Redondear las notas de acceso a la universidad"
   ]
  },
  {
   "cell_type": "code",
   "execution_count": 21,
   "metadata": {
    "collapsed": true
   },
   "outputs": [],
   "source": [
    "notas_acceso = registers.nota_acces.values"
   ]
  },
  {
   "cell_type": "markdown",
   "metadata": {},
   "source": [
    "##### Redondeamos las notas utilizando dos decimales"
   ]
  },
  {
   "cell_type": "code",
   "execution_count": 22,
   "metadata": {
    "collapsed": false
   },
   "outputs": [
    {
     "name": "stdout",
     "output_type": "stream",
     "text": [
      "Total de ocurencias: 788 de 966 posibles\n"
     ]
    }
   ],
   "source": [
    "result = np.around(notas_acceso, 2)\n",
    "total_ocurencias = 0\n",
    "for nota in result:\n",
    "    if (nota >= 5):\n",
    "        ocurencia = sum(result == nota)\n",
    "        if (ocurencia < 5):\n",
    "            #print \"Nota: \" + str(nota) + \" Ocurencia: \" + str(ocurencia)\n",
    "            total_ocurencias += 1\n",
    "print \"Total de ocurencias: \" + str(total_ocurencias) + \" de \" + str(len(result)) + \" posibles\""
   ]
  },
  {
   "cell_type": "markdown",
   "metadata": {},
   "source": [
    "Podemos ver que el numero de ocurrencias es superior a 0, es decir, con cada uno de los 788 valores se ha podido identificar a menos de 5 alumnos."
   ]
  },
  {
   "cell_type": "markdown",
   "metadata": {},
   "source": [
    "##### Redondeamos las notas utilizando un decimal"
   ]
  },
  {
   "cell_type": "code",
   "execution_count": 23,
   "metadata": {
    "collapsed": false
   },
   "outputs": [
    {
     "name": "stdout",
     "output_type": "stream",
     "text": [
      "Total de ocurencias: 51 de 966 posibles\n"
     ]
    }
   ],
   "source": [
    "result = np.around(notas_acceso, 1)\n",
    "total_ocurencias = 0\n",
    "for nota in result:\n",
    "    if (nota >= 5):\n",
    "        ocurencia = sum(result == nota)\n",
    "        if (ocurencia < 5):\n",
    "            #print \"Nota: \" + str(nota) + \" Ocurencia: \" + str(ocurencia)\n",
    "            total_ocurencias += 1\n",
    "print \"Total de ocurencias: \" + str(total_ocurencias) + \" de \" + str(len(result)) + \" posibles\""
   ]
  },
  {
   "cell_type": "markdown",
   "metadata": {},
   "source": [
    "Podemos ver que el numero de ocurrencias es superior a 0, es decir, con cada uno de los 51 valores se ha podido identificar a menos de 5 alumnos."
   ]
  },
  {
   "cell_type": "markdown",
   "metadata": {},
   "source": [
    "##### Redondeamos las notas sin utulizar decimales"
   ]
  },
  {
   "cell_type": "code",
   "execution_count": 24,
   "metadata": {
    "collapsed": false
   },
   "outputs": [
    {
     "name": "stdout",
     "output_type": "stream",
     "text": [
      "Total de ocurencias: 0 de 966 posibles\n"
     ]
    }
   ],
   "source": [
    "result = np.around(notas_acceso, 0)\n",
    "total_ocurencias = 0\n",
    "for nota in result:\n",
    "    if (nota >= 5):\n",
    "        ocurencia = sum(result == nota)\n",
    "        if (ocurencia < 5):\n",
    "            print \"Nota: \" + str(nota) + \" Ocurencia: \" + str(ocurencia)\n",
    "            total_ocurencias += 1\n",
    "print \"Total de ocurencias: \" + str(total_ocurencias) + \" de \" + str(len(result)) + \" posibles\""
   ]
  },
  {
   "cell_type": "markdown",
   "metadata": {},
   "source": [
    "#####Podemos ver que el numero de ocurrencias es 0, es decir, para hacer imposible la identificación hace falta redondear las notas de acceso sin utilizar decimales"
   ]
  },
  {
   "cell_type": "markdown",
   "metadata": {},
   "source": [
    "#### Ejemplo 1. Agregar de la edad"
   ]
  },
  {
   "cell_type": "code",
   "execution_count": 25,
   "metadata": {
    "collapsed": true
   },
   "outputs": [],
   "source": [
    "a_nacimiento = registers.naixement"
   ]
  },
  {
   "cell_type": "markdown",
   "metadata": {},
   "source": [
    "##### Pasamos de años de nacimientos a edad"
   ]
  },
  {
   "cell_type": "markdown",
   "metadata": {},
   "source": [
    "##### A partir del año de nacimiento, calculamos la edad de cada alumno"
   ]
  },
  {
   "cell_type": "code",
   "execution_count": 26,
   "metadata": {
    "collapsed": true
   },
   "outputs": [],
   "source": [
    "a_actual = datetime.datetime.now().year\n",
    "edades = []\n",
    "for a in a_nacimiento:\n",
    "    edades.append(a_actual - a)"
   ]
  },
  {
   "cell_type": "markdown",
   "metadata": {},
   "source": [
    "##### Agregamos la edad de modo que cada edad estará en una de las siguientes 3 categorías:\n",
    "+ inferior a 25 años\n",
    "+ superior a 25 años e inferior a 35 años\n",
    "+ superior a 35 años"
   ]
  },
  {
   "cell_type": "code",
   "execution_count": 27,
   "metadata": {
    "collapsed": false
   },
   "outputs": [],
   "source": [
    "red_edades = []\n",
    "for edad in edades:\n",
    "    if edad < 25:\n",
    "        red_edades.append(\"<25\")\n",
    "    elif edad > 35:\n",
    "        red_edades.append(\">35\")\n",
    "    else:\n",
    "        red_edades.append(\">25<35\")"
   ]
  },
  {
   "cell_type": "markdown",
   "metadata": {},
   "source": [
    "##### A continuación veremos el numero de alumnos por cada categoría"
   ]
  },
  {
   "cell_type": "code",
   "execution_count": 28,
   "metadata": {
    "collapsed": false
   },
   "outputs": [
    {
     "name": "stdout",
     "output_type": "stream",
     "text": [
      "Numero de alumnos con edad inferior a 25 años: 633\n",
      "Numero de alumnos con edad superior a 25 años e inferior a 35 años: 308\n",
      "Numero de alumnos con edad superior a 35 años: 25\n"
     ]
    }
   ],
   "source": [
    "print \"Numero de alumnos con edad inferior a 25 años: \" + str(red_edades.count(\"<25\"))\n",
    "print \"Numero de alumnos con edad superior a 25 años e inferior a 35 años: \" + str(red_edades.count(\">25<35\"))\n",
    "print \"Numero de alumnos con edad superior a 35 años: \" + str(red_edades.count(\">35\"))"
   ]
  },
  {
   "cell_type": "markdown",
   "metadata": {},
   "source": [
    "##### Podemos ver que por cada categoría no se pueden identificar a menos de 5 alumnos que es el limite para considerar los datos anonimos.\n",
    "##### Aunque se han elegido estas tres categorías, se podría intentar agregar los datos utilizando otras categorías."
   ]
  },
  {
   "cell_type": "code",
   "execution_count": null,
   "metadata": {
    "collapsed": true
   },
   "outputs": [],
   "source": []
  }
 ],
 "metadata": {
  "kernelspec": {
   "display_name": "Python 2",
   "language": "python",
   "name": "python2"
  },
  "language_info": {
   "codemirror_mode": {
    "name": "ipython",
    "version": 2
   },
   "file_extension": ".py",
   "mimetype": "text/x-python",
   "name": "python",
   "nbconvert_exporter": "python",
   "pygments_lexer": "ipython2",
   "version": "2.7.9"
  }
 },
 "nbformat": 4,
 "nbformat_minor": 0
}
